{
 "cells": [
  {
   "cell_type": "code",
   "execution_count": 21,
   "metadata": {},
   "outputs": [
    {
     "name": "stdout",
     "output_type": "stream",
     "text": [
      "The original list : [1, 3, 5, 1, 3, 2, 5, 4, 6, 2, 1]\n",
      "Matrix after grouping :  [[1, 1, 1], [3, 3], [5, 5], [2, 2], [4], [6]]\n"
     ]
    }
   ],
   "source": [
    "#wap to print a matrix containing group of similar elements by giving the input randomly in another matrix?\n",
    "from collections import Counter\n",
    "test_list = [1, 3, 5, 1, 3, 2, 5, 4,6,2,1]\n",
    "print(\"The original list : \" + str(test_list))\n",
    "temp = Counter(test_list)\n",
    "res = [[key] * val for key, val in temp.items()]\n",
    "print(\"Matrix after grouping : \",str(res))"
   ]
  },
  {
   "cell_type": "code",
   "execution_count": 7,
   "metadata": {},
   "outputs": [
    {
     "name": "stdout",
     "output_type": "stream",
     "text": [
      "4 is present in the list\n"
     ]
    }
   ],
   "source": [
    "#wap to check if a value is present in the list or not  using lamba function?\n",
    "l=[1,2,3,4,5]\n",
    "x=int(input(\"enter the value to be checked\"))\n",
    "y=lambda x:x in l\n",
    "if y(x):\n",
    "    print(x,\"is present in the list\")\n",
    "else:\n",
    "    print(x,\"is not present in the list!\")"
   ]
  },
  {
   "cell_type": "code",
   "execution_count": 8,
   "metadata": {},
   "outputs": [
    {
     "name": "stdout",
     "output_type": "stream",
     "text": [
      "[0, 1, 1, 2, 3, 5, 8, 13, 21]\n"
     ]
    }
   ],
   "source": [
    "#wap to enter a fibbonacci series upto n terms using lambda function?\n",
    "n=int(input(\"enter the number of terms\"))\n",
    "a=0\n",
    "b=1\n",
    "l=[a,b]\n",
    "for i in range(2,n):\n",
    "    c=a+b\n",
    "    l.append(c)\n",
    "    a=b\n",
    "    b=c\n",
    "print(l)\n"
   ]
  },
  {
   "cell_type": "code",
   "execution_count": 14,
   "metadata": {},
   "outputs": [
    {
     "name": "stdout",
     "output_type": "stream",
     "text": [
      "[3, 4, 5]\n"
     ]
    }
   ],
   "source": [
    "#wap to enter inersection of two lists using lambda function?\n",
    "l1=[1,2,3,4,5]\n",
    "l2=[3,4,5,6,7]\n",
    "l3=[]\n",
    "y=lambda x:x in l2\n",
    "for i in l1:\n",
    "    if y(i):\n",
    "        l3.append(i)\n",
    "print(l3)"
   ]
  },
  {
   "cell_type": "code",
   "execution_count": 17,
   "metadata": {},
   "outputs": [
    {
     "name": "stdout",
     "output_type": "stream",
     "text": [
      "[3, 6, 9, 12, 15]\n"
     ]
    }
   ],
   "source": [
    "#wap to triple all numbers in a list integer using map()?\n",
    "l=[1,2,3,4,5]\n",
    "m=lambda x:x*3\n",
    "l1=list(map(m,l))    \n",
    "print(l1)"
   ]
  }
 ],
 "metadata": {
  "kernelspec": {
   "display_name": "Python 3",
   "language": "python",
   "name": "python3"
  },
  "language_info": {
   "codemirror_mode": {
    "name": "ipython",
    "version": 3
   },
   "file_extension": ".py",
   "mimetype": "text/x-python",
   "name": "python",
   "nbconvert_exporter": "python",
   "pygments_lexer": "ipython3",
   "version": "3.11.8"
  }
 },
 "nbformat": 4,
 "nbformat_minor": 2
}
