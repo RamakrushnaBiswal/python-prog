{
 "cells": [
  {
   "cell_type": "code",
   "execution_count": 2,
   "metadata": {},
   "outputs": [
    {
     "name": "stdout",
     "output_type": "stream",
     "text": [
      "(3, 5)\n",
      "(5, 7)\n"
     ]
    }
   ],
   "source": [
    "# Program to print  twin prime number between 1 to N\n",
    "N = int(input(\"Enter the number: \"))\n",
    "def is_prime(num):\n",
    "    if num < 2:\n",
    "        return False\n",
    "    for i in range(2, int(num**0.5) + 1):\n",
    "        if num % i == 0:\n",
    "            return False\n",
    "    return True\n",
    "def print_twin_primes(n):\n",
    "    for i in range(2, n):\n",
    "        if is_prime(i) and is_prime(i + 2):\n",
    "            print(f\"({i}, {i + 2})\")\n",
    "\n",
    "print_twin_primes(N)"
   ]
  },
  {
   "cell_type": "code",
   "execution_count": 6,
   "metadata": {},
   "outputs": [
    {
     "data": {
      "text/plain": [
       "'No even length word found'"
      ]
     },
     "execution_count": 6,
     "metadata": {},
     "output_type": "execute_result"
    }
   ],
   "source": [
    "# WAP to print even length words in a string\n",
    "str = input(\"Enter a string: \")\n",
    "def evenWord(str):\n",
    "    words = str.split()\n",
    "    for word in words:\n",
    "        if len(word) % 2 == 0:\n",
    "            print(word)\n",
    "        else:\n",
    "            return 'No even length word found'\n",
    "        \n",
    "evenWord(str)"
   ]
  },
  {
   "cell_type": "code",
   "execution_count": 7,
   "metadata": {},
   "outputs": [
    {
     "name": "stdout",
     "output_type": "stream",
     "text": [
      "This is a leap Year\n"
     ]
    }
   ],
   "source": [
    "# WAP to check leap year\n",
    "year=int(input('Enter a year:'))\n",
    "def leap_year(year):\n",
    "    if (year % 4 == 0 and year % 100 != 0) or (year % 400 == 0):\n",
    "        return 'This is a leap Year'\n",
    "    else:\n",
    "        return 'This is not a leap year'\n",
    "print(leap_year(year))"
   ]
  },
  {
   "cell_type": "code",
   "execution_count": 8,
   "metadata": {},
   "outputs": [
    {
     "name": "stdout",
     "output_type": "stream",
     "text": [
      "Palindrome\n"
     ]
    }
   ],
   "source": [
    "# WAP to check whether a string is symmetric or palindrome\n",
    "str = input(\"Enter a string: \")\n",
    "def palindromeNum(str):\n",
    "    if(str == str[::-1]):\n",
    "        return \"Palindrome\"\n",
    "    else:\n",
    "        return \"Not Palindrome\"\n",
    "print(palindromeNum(str))"
   ]
  },
  {
   "cell_type": "code",
   "execution_count": 9,
   "metadata": {},
   "outputs": [
    {
     "name": "stdout",
     "output_type": "stream",
     "text": [
      "120\n"
     ]
    }
   ],
   "source": [
    "# WAP to find the factorial of a number\n",
    "a=int(input('Enter a number:'))\n",
    "def factorial(num):\n",
    "    if num == 0:\n",
    "        return 1\n",
    "    return num * factorial(num - 1)\n",
    "print(factorial(a))"
   ]
  },
  {
   "cell_type": "code",
   "execution_count": 10,
   "metadata": {},
   "outputs": [
    {
     "name": "stdout",
     "output_type": "stream",
     "text": [
      "butyres\n"
     ]
    }
   ],
   "source": [
    "# WAP to remove all duplicates from a given string\n",
    "str = input(\"Enter a string: \")\n",
    "def remove_duplicates(str):\n",
    "    return ''.join(sorted(set(str), key=str.index))\n",
    "print(remove_duplicates(str))\n",
    "#bbuuttyyrrres"
   ]
  }
 ],
 "metadata": {
  "kernelspec": {
   "display_name": "Python 3",
   "language": "python",
   "name": "python3"
  },
  "language_info": {
   "codemirror_mode": {
    "name": "ipython",
    "version": 3
   },
   "file_extension": ".py",
   "mimetype": "text/x-python",
   "name": "python",
   "nbconvert_exporter": "python",
   "pygments_lexer": "ipython3",
   "version": "3.11.9"
  }
 },
 "nbformat": 4,
 "nbformat_minor": 2
}
