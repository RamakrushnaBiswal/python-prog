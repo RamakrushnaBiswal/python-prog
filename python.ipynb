{
 "cells": [
  {
   "cell_type": "code",
   "execution_count": 2,
   "metadata": {},
   "outputs": [
    {
     "name": "stdout",
     "output_type": "stream",
     "text": [
      "Bunty \n",
      "is a GoodBoy\n"
     ]
    }
   ],
   "source": [
    "msg='Bunty \\n' \\\n",
    "    'is a Good' \\\n",
    "        'Boy'\n",
    "print(msg)"
   ]
  },
  {
   "cell_type": "code",
   "execution_count": 3,
   "metadata": {},
   "outputs": [
    {
     "name": "stdout",
     "output_type": "stream",
     "text": [
      "                                  2024\n",
      "\n",
      "      January                   February                   March\n",
      "Mo Tu We Th Fr Sa Su      Mo Tu We Th Fr Sa Su      Mo Tu We Th Fr Sa Su\n",
      " 1  2  3  4  5  6  7                1  2  3  4                   1  2  3\n",
      " 8  9 10 11 12 13 14       5  6  7  8  9 10 11       4  5  6  7  8  9 10\n",
      "15 16 17 18 19 20 21      12 13 14 15 16 17 18      11 12 13 14 15 16 17\n",
      "22 23 24 25 26 27 28      19 20 21 22 23 24 25      18 19 20 21 22 23 24\n",
      "29 30 31                  26 27 28 29               25 26 27 28 29 30 31\n",
      "\n",
      "       April                      May                       June\n",
      "Mo Tu We Th Fr Sa Su      Mo Tu We Th Fr Sa Su      Mo Tu We Th Fr Sa Su\n",
      " 1  2  3  4  5  6  7             1  2  3  4  5                      1  2\n",
      " 8  9 10 11 12 13 14       6  7  8  9 10 11 12       3  4  5  6  7  8  9\n",
      "15 16 17 18 19 20 21      13 14 15 16 17 18 19      10 11 12 13 14 15 16\n",
      "22 23 24 25 26 27 28      20 21 22 23 24 25 26      17 18 19 20 21 22 23\n",
      "29 30                     27 28 29 30 31            24 25 26 27 28 29 30\n",
      "\n",
      "        July                     August                  September\n",
      "Mo Tu We Th Fr Sa Su      Mo Tu We Th Fr Sa Su      Mo Tu We Th Fr Sa Su\n",
      " 1  2  3  4  5  6  7                1  2  3  4                         1\n",
      " 8  9 10 11 12 13 14       5  6  7  8  9 10 11       2  3  4  5  6  7  8\n",
      "15 16 17 18 19 20 21      12 13 14 15 16 17 18       9 10 11 12 13 14 15\n",
      "22 23 24 25 26 27 28      19 20 21 22 23 24 25      16 17 18 19 20 21 22\n",
      "29 30 31                  26 27 28 29 30 31         23 24 25 26 27 28 29\n",
      "                                                    30\n",
      "\n",
      "      October                   November                  December\n",
      "Mo Tu We Th Fr Sa Su      Mo Tu We Th Fr Sa Su      Mo Tu We Th Fr Sa Su\n",
      "    1  2  3  4  5  6                   1  2  3                         1\n",
      " 7  8  9 10 11 12 13       4  5  6  7  8  9 10       2  3  4  5  6  7  8\n",
      "14 15 16 17 18 19 20      11 12 13 14 15 16 17       9 10 11 12 13 14 15\n",
      "21 22 23 24 25 26 27      18 19 20 21 22 23 24      16 17 18 19 20 21 22\n",
      "28 29 30 31               25 26 27 28 29 30         23 24 25 26 27 28 29\n",
      "                                                    30 31\n",
      "\n"
     ]
    }
   ],
   "source": [
    "#Calander using python\n",
    "import calendar\n",
    "print(calendar.calendar(2024))"
   ]
  },
  {
   "cell_type": "code",
   "execution_count": 4,
   "metadata": {},
   "outputs": [
    {
     "ename": "SyntaxError",
     "evalue": "unexpected character after line continuation character (189688551.py, line 2)",
     "output_type": "error",
     "traceback": [
      "\u001b[1;36m  Cell \u001b[1;32mIn[4], line 2\u001b[1;36m\u001b[0m\n\u001b[1;33m    a=1+2+3 \\\u001b[0m\n\u001b[1;37m             ^\u001b[0m\n\u001b[1;31mSyntaxError\u001b[0m\u001b[1;31m:\u001b[0m unexpected character after line continuation character\n"
     ]
    }
   ],
   "source": [
    "#addition\n",
    "a=1+2+3 \\ \n",
    "    +2+4\n",
    "print('output',a)"
   ]
  },
  {
   "cell_type": "code",
   "execution_count": null,
   "metadata": {},
   "outputs": [
    {
     "name": "stdout",
     "output_type": "stream",
     "text": [
      "Rama Rama Rama Rama\n",
      "2957401995056\n"
     ]
    },
    {
     "data": {
      "text/plain": [
       "str"
      ]
     },
     "execution_count": 36,
     "metadata": {},
     "output_type": "execute_result"
    }
   ],
   "source": [
    "s1='Rama'\n",
    "s2=\"Rama\"\n",
    "s3='''Rama'''\n",
    "s4=\"\"\"Rama\"\"\"\n",
    "print(s1,s2,s3,s4)\n",
    "print(id(s1))#show the memory location of the variable\n",
    "type(s1)#show The data type"
   ]
  },
  {
   "cell_type": "code",
   "execution_count": null,
   "metadata": {},
   "outputs": [
    {
     "data": {
      "text/plain": [
       "'print(\"hello Geeks\")\\n    print(\"hello Geeks\")\\n    print(\"hello Geeks\")\\n    print(\"hello Geeks\")\\n'"
      ]
     },
     "execution_count": 3,
     "metadata": {},
     "output_type": "execute_result"
    }
   ],
   "source": [
    "#comments in python🐍\n",
    "# the comment is a program readable Exaclamination in python.\n",
    "#  Comments are added with the putpose of making the source code for humans to understand and ignore by the interpreter.\n",
    "# -> this is useed to make the line comment out\n",
    "\n",
    "# for multiline comment we use triple quotes \n",
    "\n",
    "\"\"\" print(\"hello Geeks\")\n",
    "    print(\"hello Geeks\")\n",
    "    print(\"hello Geeks\")\n",
    "    print(\"hello Geeks\")\n",
    "\"\"\"\n"
   ]
  },
  {
   "cell_type": "code",
   "execution_count": null,
   "metadata": {},
   "outputs": [
    {
     "name": "stdout",
     "output_type": "stream",
     "text": [
      "<class 'str'> <class 'int'>\n",
      "bunty bunty bunty\n"
     ]
    }
   ],
   "source": [
    "x,y='apple',34\n",
    "print(type(x),type(y))#\n",
    "a=b=c='bunty'\n",
    "print(a,b,c)"
   ]
  },
  {
   "cell_type": "code",
   "execution_count": null,
   "metadata": {},
   "outputs": [
    {
     "name": "stdout",
     "output_type": "stream",
     "text": [
      "apple banana orange\n"
     ]
    }
   ],
   "source": [
    "fruits=['apple','banana','orange']\n",
    "x,y,z=fruits\n",
    "print(x,y,z)"
   ]
  },
  {
   "cell_type": "code",
   "execution_count": null,
   "metadata": {},
   "outputs": [
    {
     "name": "stdout",
     "output_type": "stream",
     "text": [
      "apple banana 6.45 300\n"
     ]
    }
   ],
   "source": [
    "#multiple assignment using list\n",
    "fruits=['apple','banana',6.45,300]\n",
    "x,y,z,w=fruits\n",
    "print(x,y,z,w)"
   ]
  },
  {
   "cell_type": "code",
   "execution_count": null,
   "metadata": {},
   "outputs": [
    {
     "name": "stdout",
     "output_type": "stream",
     "text": [
      "p r s\n"
     ]
    }
   ],
   "source": [
    "#interview Questions\n",
    "a,b=\"pq\"\n",
    "b,c=\"rs\"\n",
    "print(a,b,c)"
   ]
  },
  {
   "cell_type": "code",
   "execution_count": null,
   "metadata": {},
   "outputs": [
    {
     "data": {
      "text/plain": [
       "472"
      ]
     },
     "execution_count": 37,
     "metadata": {},
     "output_type": "execute_result"
    }
   ],
   "source": [
    "a=input()\n",
    "a,type(a)\n",
    "472"
   ]
  },
  {
   "cell_type": "code",
   "execution_count": null,
   "metadata": {},
   "outputs": [
    {
     "name": "stdout",
     "output_type": "stream",
     "text": [
      "the sum is 134\n"
     ]
    }
   ],
   "source": [
    "a=int(input(\"give 1st no:\"))\n",
    "b=int(input(\"give 2nd no:\"))\n",
    "print(\"the sum is\",a+b)"
   ]
  },
  {
   "cell_type": "code",
   "execution_count": null,
   "metadata": {},
   "outputs": [
    {
     "name": "stdout",
     "output_type": "stream",
     "text": [
      "the value of a is = abc\n",
      "the value of a is =abc\n"
     ]
    }
   ],
   "source": [
    "print('the value of a is =',\"abc\")\n",
    "print('the value of a is ='+\"abc\")\n"
   ]
  },
  {
   "cell_type": "code",
   "execution_count": null,
   "metadata": {},
   "outputs": [
    {
     "name": "stdout",
     "output_type": "stream",
     "text": [
      "123"
     ]
    }
   ],
   "source": [
    "print(1,end=\"\")\n",
    "print(2,end=\"\")\n",
    "print(3,end=\"\")"
   ]
  },
  {
   "cell_type": "code",
   "execution_count": null,
   "metadata": {},
   "outputs": [
    {
     "name": "stdout",
     "output_type": "stream",
     "text": [
      "1 2 3 4\n",
      "1*2*3*4\n",
      "1*2*3*4#"
     ]
    }
   ],
   "source": [
    "print(1,2,3,4)\n",
    "print(1,2,3,4,sep='*')\n",
    "print(1,2,3,4,sep='*',end='#')\n"
   ]
  },
  {
   "cell_type": "code",
   "execution_count": null,
   "metadata": {},
   "outputs": [
    {
     "name": "stdout",
     "output_type": "stream",
     "text": [
      "range(0, 9)\n",
      "<class 'list'>\n",
      "<class 'dict'>\n",
      "<class 'tuple'>\n",
      "<class 'bool'>\n",
      "<class 'NoneType'>\n",
      "<class 'set'>\n",
      "b u n t y\n"
     ]
    },
    {
     "data": {
      "text/plain": [
       "(int, str, complex)"
      ]
     },
     "execution_count": 1,
     "metadata": {},
     "output_type": "execute_result"
    }
   ],
   "source": [
    "#Datatypes in pythons\n",
    "x=10\n",
    "y=\"bunty\"\n",
    "z=0.56j\n",
    "a=3.45\n",
    "b=['apple','banana','orange']#list\n",
    "c={'name':'bunty','age':23,'gender':'male'}#dictionary\n",
    "d=(1,2,3,4,5)#tuple\n",
    "e=True #Boolean\n",
    "f=None #none\n",
    "g = {'apple', 'banana', 'cherry'}#set\n",
    "h= range(9)\n",
    "print(h)\n",
    "print(type(b))\n",
    "print(type(c))\n",
    "print(type(d))\n",
    "print(type(e))\n",
    "print(type(f))\n",
    "print(type(g))\n",
    "print(y[0],y[1],y[2],y[3],y[4])\n",
    "type(x),type(y),type(z)"
   ]
  },
  {
   "cell_type": "markdown",
   "metadata": {},
   "source": [
    "g = {'apple', 'banana', 'cherry'}#set\n",
    "print(g)\n",
    "h=set(\"bunty\")\n",
    "for i in h:\n",
    "    print(i)\n",
    "h.add('munty')\n",
    "print(h)\n",
    "h.remove('y')\n",
    "print(h)"
   ]
  },
  {
   "cell_type": "code",
   "execution_count": null,
   "metadata": {},
   "outputs": [],
   "source": [
    "def name():\n",
    "    a=10\n",
    "    print(m1())"
   ]
  },
  {
   "cell_type": "code",
   "execution_count": null,
   "metadata": {},
   "outputs": [
    {
     "name": "stdout",
     "output_type": "stream",
     "text": [
      "15\n",
      "9\n",
      "36\n",
      "4.0\n",
      "0\n",
      "1728\n",
      "4\n"
     ]
    }
   ],
   "source": [
    "#operators\n",
    "a=12\n",
    "b=3\n",
    "print(a+b)\n",
    "print(a-b)\n",
    "print(a*b)\n",
    "print(a/b)#here it give the output in float\n",
    "print(a//b)#here it give the output in integer\n",
    "print(a%b)\n",
    "print(a**b)"
   ]
  },
  {
   "cell_type": "code",
   "execution_count": null,
   "metadata": {},
   "outputs": [
    {
     "name": "stdout",
     "output_type": "stream",
     "text": [
      "False\n",
      "True\n",
      "True\n",
      "False\n",
      "True\n",
      "False\n"
     ]
    }
   ],
   "source": [
    "#relational operators\n",
    "#here the output is in boolean\n",
    "a=10\n",
    "b=3\n",
    "print(a==b)\n",
    "print(a!=b)\n",
    "print(a>b)\n",
    "print(a<b)\n",
    "print(a>=b)\n",
    "print(a<=b)"
   ]
  },
  {
   "cell_type": "code",
   "execution_count": null,
   "metadata": {},
   "outputs": [
    {
     "name": "stdout",
     "output_type": "stream",
     "text": [
      "False\n",
      "True\n",
      "False\n"
     ]
    }
   ],
   "source": [
    "# logical operators\n",
    "a=True\n",
    "b=False\n",
    "print(a and b)\n",
    "print(a or b)\n",
    "print(not a)"
   ]
  },
  {
   "cell_type": "code",
   "execution_count": null,
   "metadata": {},
   "outputs": [
    {
     "name": "stdout",
     "output_type": "stream",
     "text": [
      "0\n",
      "14\n",
      "14\n",
      "160\n",
      "0\n"
     ]
    }
   ],
   "source": [
    "#bitwise operators\n",
    "a=10\n",
    "b=4\n",
    "print(a&b)\n",
    "print(a|b)\n",
    "print(a^b)\n",
    "print(a<<b)#left shift\n",
    "print(a>>b)#right shift"
   ]
  },
  {
   "cell_type": "code",
   "execution_count": 5,
   "metadata": {},
   "outputs": [
    {
     "name": "stdout",
     "output_type": "stream",
     "text": [
      "13\n",
      "10\n",
      "30\n",
      "10.0\n",
      "3.0\n",
      "27.0\n",
      "0.0\n"
     ]
    }
   ],
   "source": [
    "#assignment operators\n",
    "a=10\n",
    "a+=3\n",
    "print(a)\n",
    "a-=3\n",
    "print(a)\n",
    "a*=3\n",
    "print(a)\n",
    "a/=3\n",
    "print(a)\n",
    "a//=3\n",
    "print(a)\n",
    "a**=3\n",
    "print(a)\n",
    "a%=3\n",
    "print(a)"
   ]
  },
  {
   "cell_type": "code",
   "execution_count": 13,
   "metadata": {},
   "outputs": [
    {
     "name": "stdout",
     "output_type": "stream",
     "text": [
      "140728702354504\n",
      "140728702354280\n",
      "False\n",
      "True\n"
     ]
    }
   ],
   "source": [
    "#special operators\n",
    "a=10\n",
    "b=3\n",
    "print(id(a))\n",
    "print(id(b))\n",
    "print(a is b)\n",
    "print(a is not b)\n"
   ]
  },
  {
   "cell_type": "code",
   "execution_count": 26,
   "metadata": {},
   "outputs": [
    {
     "name": "stdout",
     "output_type": "stream",
     "text": [
      "True\n",
      "False\n",
      "False\n",
      "True\n"
     ]
    }
   ],
   "source": [
    "#membership operators\n",
    "a='apple'\n",
    "b='apple'\n",
    "print(a in b)\n",
    "print(a not in b)\n",
    "#We can take list as membership operators\n",
    "a=[1,2,3,4,5]\n",
    "b=[1,2,3,4,5]\n",
    "print(a in b)\n",
    "print(a not in b)"
   ]
  },
  {
   "cell_type": "code",
   "execution_count": 31,
   "metadata": {},
   "outputs": [
    {
     "name": "stdout",
     "output_type": "stream",
     "text": [
      "Addition: 15\n",
      "Subtraction: 9\n",
      "Multiplication: 36\n",
      "Division: 4.0\n",
      "Floor Division: 4\n",
      "Exponentiation: 1728\n",
      "Modulus: 0\n"
     ]
    }
   ],
   "source": [
    "#Enter two integer from keyboard and perform all the arithmatic operations\n",
    "# Enter two integers from the keyboard\n",
    "num1 = int(input(\"Enter the first integer: \"))\n",
    "num2 = int(input(\"Enter the second integer: \"))\n",
    "\n",
    "# Perform arithmetic operations\n",
    "addition = num1 + num2\n",
    "subtraction = num1 - num2\n",
    "multiplication = num1 * num2\n",
    "division = num1 / num2\n",
    "floor_division = num1 // num2\n",
    "exponentiation = num1 ** num2\n",
    "modulus = num1 % num2\n",
    "\n",
    "# Print the results\n",
    "print(\"Addition:\", addition)\n",
    "print(\"Subtraction:\", subtraction)\n",
    "print(\"Multiplication:\", multiplication)\n",
    "print(\"Division:\", division)\n",
    "print(\"Floor Division:\", floor_division)\n",
    "print(\"Exponentiation:\", exponentiation)\n",
    "print(\"Modulus:\", modulus)"
   ]
  },
  {
   "cell_type": "code",
   "execution_count": 5,
   "metadata": {},
   "outputs": [
    {
     "name": "stdout",
     "output_type": "stream",
     "text": [
      "3.141592653589793\n",
      "2.718281828459045\n",
      "6.283185307179586\n",
      "inf\n",
      "nan\n"
     ]
    }
   ],
   "source": [
    "import math \n",
    "print(m.pi)\n",
    "print(m.e)\n",
    "print(m.tau)\n",
    "print(m.inf)\n",
    "print(m.nan)"
   ]
  },
  {
   "cell_type": "code",
   "execution_count": 8,
   "metadata": {},
   "outputs": [
    {
     "name": "stdout",
     "output_type": "stream",
     "text": [
      "the area of the circle is 50.26548245743669\n"
     ]
    }
   ],
   "source": [
    "# write a program to findout the area of the circle\n",
    "r=int(input(\"enter the radius of the circle:\"))\n",
    "area=m.pi*r**2\n",
    "print(\"the area of the circle is\",area)"
   ]
  },
  {
   "cell_type": "code",
   "execution_count": 11,
   "metadata": {},
   "outputs": [
    {
     "name": "stdout",
     "output_type": "stream",
     "text": [
      "the name is Ramakrushna Biswal\n",
      "the age is 20\n",
      "the salary is 1200000.0\n"
     ]
    }
   ],
   "source": [
    "#wrtie a program to read employedata from keyboard and prind the data\n",
    "name=input(\"enter the name:\")\n",
    "age=int(input(\"enter the age:\"))\n",
    "salary=float(input(\"enter the salary:\"))\n",
    "print(\"the name is\",name)\n",
    "print(\"the age is\",age)\n",
    "print(\"the salary is\",salary)"
   ]
  },
  {
   "cell_type": "code",
   "execution_count": 3,
   "metadata": {},
   "outputs": [
    {
     "name": "stdout",
     "output_type": "stream",
     "text": [
      "a is greater than b\n"
     ]
    }
   ],
   "source": [
    "#if condition \n",
    "a=10\n",
    "b=20\n",
    "if a<b:\n",
    "    print(\"a is less than b\")\n",
    "else:\n",
    "    print(\"a is greater than b\")\n"
   ]
  },
  {
   "cell_type": "code",
   "execution_count": 4,
   "metadata": {},
   "outputs": [
    {
     "name": "stdout",
     "output_type": "stream",
     "text": [
      "a is less than b\n"
     ]
    }
   ],
   "source": [
    "#elif condition\n",
    "a=10\n",
    "b=20\n",
    "c=30\n",
    "if a<b:\n",
    "    print(\"a is less than b\")\n",
    "elif a<c:\n",
    "    print(\"a is less than c\")\n",
    "else:\n",
    "    print(\"a is greater than b and c\")\n"
   ]
  },
  {
   "cell_type": "code",
   "execution_count": 5,
   "metadata": {},
   "outputs": [
    {
     "name": "stdout",
     "output_type": "stream",
     "text": [
      "The biggest number is: 89.0\n"
     ]
    }
   ],
   "source": [
    "#write a program to find biggest of given three number from command promt\n",
    "num1 = int(input(\"Enter the first number: \"))\n",
    "num2 = int(input(\"Enter the second number: \"))\n",
    "num3 = int(input(\"Enter the third number: \"))\n",
    "if num1 > num2 and num1 > num3:\n",
    "    biggest = num1\n",
    "elif num2 > num1 and num2 > num3:\n",
    "    biggest = num2\n",
    "else:\n",
    "    biggest = num3\n",
    "print(\"The biggest number is:\", biggest)"
   ]
  },
  {
   "cell_type": "code",
   "execution_count": 6,
   "metadata": {},
   "outputs": [
    {
     "name": "stdout",
     "output_type": "stream",
     "text": [
      "5 is an odd number\n"
     ]
    }
   ],
   "source": [
    "#write a program to check wheather the given number is even or odd\n",
    "num = int(input(\"Enter a number: \"))\n",
    "if num % 2 == 0:\n",
    "    print(num, \"is an even number\")\n",
    "else:\n",
    "    print(num, \"is an odd number\")"
   ]
  },
  {
   "cell_type": "code",
   "execution_count": 8,
   "metadata": {},
   "outputs": [
    {
     "name": "stdout",
     "output_type": "stream",
     "text": [
      "The number is not in between 1 and 100\n"
     ]
    }
   ],
   "source": [
    "#write a program to check weather the given number is in between 1 to 100\n",
    "num = int(input(\"Enter a number: \"))\n",
    "if num >= 1 and num <= 100:\n",
    "    print(\"The number is in between 1 and 100\")\n",
    "else:\n",
    "    print(\"The number is not in between 1 and 100\")"
   ]
  },
  {
   "cell_type": "code",
   "execution_count": 14,
   "metadata": {},
   "outputs": [
    {
     "name": "stdout",
     "output_type": "stream",
     "text": [
      "('ramakrushna', 'bunty', 'lucky') ramakrushna\n",
      "('ramakrushna', 'bunty', 'lucky') bunty\n",
      "('ramakrushna', 'bunty', 'lucky') lucky\n"
     ]
    }
   ],
   "source": [
    "# Example of a for loop\n",
    "x=(\"ramakrushna\",\"bunty\",\"lucky\")\n",
    "for i in x:\n",
    "    print(x,i)\n",
    "# for i in range(5):\n",
    "#     print(i)"
   ]
  },
  {
   "cell_type": "code",
   "execution_count": 3,
   "metadata": {},
   "outputs": [
    {
     "name": "stdout",
     "output_type": "stream",
     "text": [
      "Hello, world!\n",
      "Hello, world!\n",
      "Hello, world!\n",
      "Hello, world!\n",
      "Hello, world!\n",
      "Hello, world!\n",
      "Hello, world!\n",
      "Hello, world!\n",
      "Hello, world!\n",
      "Hello, world!\n"
     ]
    }
   ],
   "source": [
    "#print hello world 10 number of times\n",
    "for x in range(10):\n",
    "    print(\"Hello, world!\")"
   ]
  },
  {
   "cell_type": "code",
   "execution_count": 4,
   "metadata": {},
   "outputs": [
    {
     "name": "stdout",
     "output_type": "stream",
     "text": [
      "55\n"
     ]
    }
   ],
   "source": [
    "#write a program to display sum of the number present in a list\n",
    "l=[1,2,3,4,5,6,7,8,9,10]\n",
    "sum=0\n",
    "for x in l:\n",
    "    sum=sum+x\n",
    "print(sum)"
   ]
  },
  {
   "cell_type": "code",
   "execution_count": 5,
   "metadata": {},
   "outputs": [
    {
     "name": "stdout",
     "output_type": "stream",
     "text": [
      "10\n",
      "9\n",
      "8\n",
      "7\n",
      "6\n",
      "5\n",
      "4\n",
      "3\n",
      "2\n",
      "1\n"
     ]
    }
   ],
   "source": [
    "#write a program to display  1 to 10 in descending order\n",
    "for x in range(10,0,-1):\n",
    "    print(x)\n"
   ]
  },
  {
   "cell_type": "markdown",
   "metadata": {},
   "source": [
    "If we want  to execute a group of state ment itratively, until the consdition is false then we should go for while loop."
   ]
  },
  {
   "cell_type": "code",
   "execution_count": 6,
   "metadata": {},
   "outputs": [
    {
     "name": "stdout",
     "output_type": "stream",
     "text": [
      "1\n",
      "2\n",
      "3\n",
      "4\n",
      "5\n",
      "6\n",
      "7\n",
      "8\n",
      "9\n",
      "10\n"
     ]
    }
   ],
   "source": [
    "#write a program  to print 1 to 10 using while loop\n",
    "num = 1\n",
    "while num <= 10:\n",
    "    print(num)\n",
    "    num += 1"
   ]
  },
  {
   "cell_type": "code",
   "execution_count": 16,
   "metadata": {},
   "outputs": [
    {
     "name": "stdout",
     "output_type": "stream",
     "text": [
      "15\n"
     ]
    }
   ],
   "source": [
    "#write a program to display sum of the 1st n numbers\n",
    "n=int(input(\"enter the number:\"))\n",
    "sum=0\n",
    "i=1\n",
    "while i<=n:\n",
    "    sum=sum+i\n",
    "    i+=1\n",
    "print(sum)"
   ]
  },
  {
   "cell_type": "code",
   "execution_count": 20,
   "metadata": {},
   "outputs": [
    {
     "name": "stdout",
     "output_type": "stream",
     "text": [
      "*\n",
      "**\n",
      "***\n",
      "****\n",
      "*****\n",
      "******\n",
      "*******\n",
      "********\n",
      "*********\n",
      "**********\n"
     ]
    }
   ],
   "source": [
    "#write a star pattern using for loop\n",
    "n=10\n",
    "for i in range(n):\n",
    "    for j in range(i+1):\n",
    "        print(\"*\",end=\"\")\n",
    "    print()"
   ]
  },
  {
   "cell_type": "code",
   "execution_count": 23,
   "metadata": {},
   "outputs": [
    {
     "name": "stdout",
     "output_type": "stream",
     "text": [
      "**********\n",
      "*        *\n",
      "*        *\n",
      "*        *\n",
      "*        *\n",
      "*        *\n",
      "*        *\n",
      "*        *\n",
      "*        *\n",
      "**********\n"
     ]
    }
   ],
   "source": [
    "#wtire a program to draw rectangle in star\n",
    "n=10\n",
    "for i in range(n):\n",
    "    for j in range(n):\n",
    "        if i==0 or i==n-1 or j==0 or j==n-1:\n",
    "            print(\"*\",end=\"\")\n",
    "        else:\n",
    "            print(\" \",end=\"\")\n",
    "    print()"
   ]
  }
 ],
 "metadata": {
  "kernelspec": {
   "display_name": "Python 3",
   "language": "python",
   "name": "python3"
  },
  "language_info": {
   "codemirror_mode": {
    "name": "ipython",
    "version": 3
   },
   "file_extension": ".py",
   "mimetype": "text/x-python",
   "name": "python",
   "nbconvert_exporter": "python",
   "pygments_lexer": "ipython3",
   "version": "3.11.7"
  }
 },
 "nbformat": 4,
 "nbformat_minor": 2
}
