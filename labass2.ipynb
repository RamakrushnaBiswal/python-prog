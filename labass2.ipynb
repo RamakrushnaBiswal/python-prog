{
 "cells": [
  {
   "cell_type": "markdown",
   "metadata": {},
   "source": [
    "Assignment - 2"
   ]
  },
  {
   "cell_type": "code",
   "execution_count": 1,
   "metadata": {},
   "outputs": [
    {
     "name": "stdout",
     "output_type": "stream",
     "text": [
      "Grade: B\n"
     ]
    }
   ],
   "source": [
    "#Write a program to enter percentage and display the gradation system\n",
    "a=int(input(\"Enter your percentage:\"))\n",
    "if(a>90):\n",
    "    print(\"Grade: O\")\n",
    "elif(a>80 and a<=90):\n",
    "    print(\"Grade: E\")\n",
    "elif(a>=70 and a<=80):\n",
    "    print(\"Grade: A\")\n",
    "elif(a>=60 and a<=70):\n",
    "    print(\"Grade: B\")\n",
    "elif(a>=50 and a<=60):\n",
    "    print(\"Grade: C\")\n",
    "elif(a>=40 and a<=50):\n",
    "    print(\"Grade: D\")\n",
    "else:\n",
    "    print(\"Fail Ho geya bhai...!\")"
   ]
  },
  {
   "cell_type": "code",
   "execution_count": 6,
   "metadata": {},
   "outputs": [
    {
     "name": "stdout",
     "output_type": "stream",
     "text": [
      "4\n",
      "7\n",
      "9\n"
     ]
    }
   ],
   "source": [
    "#write a program to enter 5 digit number and print the digits present at odd locations[use for loop]\n",
    "a=input(\"Enter a Number :\")\n",
    "for i in range(5):\n",
    "    if(i%2==0):\n",
    "        print(a[i])"
   ]
  },
  {
   "cell_type": "code",
   "execution_count": 7,
   "metadata": {},
   "outputs": [
    {
     "name": "stdout",
     "output_type": "stream",
     "text": [
      "It is a palindrome\n"
     ]
    }
   ],
   "source": [
    "#write a program to enter a number and check weather it is prlindrome or not\n",
    "a=int(input(\"Enter a number:\"))\n",
    "b=str(a)\n",
    "if(b==b[::-1]):\n",
    "    print(\"It is a palindrome\")\n",
    "else:\n",
    "    print(\"It is not a palindrome\")"
   ]
  },
  {
   "cell_type": "code",
   "execution_count": 9,
   "metadata": {},
   "outputs": [
    {
     "name": "stdout",
     "output_type": "stream",
     "text": [
      "It is a perfect number\n"
     ]
    }
   ],
   "source": [
    "#wap to enter a number to check weather it is perfect or not\n",
    "a=int(input(\"Enter a number:\"))\n",
    "b=0\n",
    "for i in range(1,a):\n",
    "    if(a%i==0):\n",
    "        b=b+i\n",
    "if(b==a):\n",
    "    print(\"It is a perfect number\")\n",
    "else:\n",
    "    print(\"It is not a perfect number\")"
   ]
  },
  {
   "cell_type": "code",
   "execution_count": 11,
   "metadata": {},
   "outputs": [
    {
     "name": "stdout",
     "output_type": "stream",
     "text": [
      "ytnub\n",
      "No of vowels are: 1\n",
      "No of consonants are: 4\n"
     ]
    }
   ],
   "source": [
    "#wap to enter a string and print it in reverse also print the no of vowels and consonants on it\n",
    "a=input(\"Enter a string:\")\n",
    "print(a[::-1])\n",
    "c=0\n",
    "d=0\n",
    "for i in a:\n",
    "    if(i=='a' or i=='e' or i=='i' or i=='o' or i=='u' or i=='A' or i=='E' or i=='I' or i=='O' or i=='U'):\n",
    "        c=c+1\n",
    "    else:\n",
    "        d=d+1\n",
    "print(\"No of vowels are:\",c)\n",
    "print(\"No of consonants are:\",d)"
   ]
  }
 ],
 "metadata": {
  "kernelspec": {
   "display_name": "Python 3",
   "language": "python",
   "name": "python3"
  },
  "language_info": {
   "codemirror_mode": {
    "name": "ipython",
    "version": 3
   },
   "file_extension": ".py",
   "mimetype": "text/x-python",
   "name": "python",
   "nbconvert_exporter": "python",
   "pygments_lexer": "ipython3",
   "version": "3.11.8"
  }
 },
 "nbformat": 4,
 "nbformat_minor": 2
}
