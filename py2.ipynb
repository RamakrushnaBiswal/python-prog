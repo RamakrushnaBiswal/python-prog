{
 "cells": [
  {
   "cell_type": "code",
   "execution_count": 5,
   "metadata": {},
   "outputs": [
    {
     "name": "stdout",
     "output_type": "stream",
     "text": [
      "Geeks four  four Geeks\n",
      "2336342916304\n"
     ]
    }
   ],
   "source": [
    "# replace() method \n",
    "a = \"Geeks for  for Geeks\"\n",
    "print(a.replace(\"for\", \"four\"))\n",
    "print(id(a))"
   ]
  },
  {
   "cell_type": "markdown",
   "metadata": {},
   "source": [
    "we can split the given string according to according to specified separetor by using split method.\n",
    "The deafult separetor is The return type of split methos is 'list'"
   ]
  },
  {
   "cell_type": "code",
   "execution_count": 11,
   "metadata": {},
   "outputs": [
    {
     "name": "stdout",
     "output_type": "stream",
     "text": [
      "good\n",
      "Afternoon\n"
     ]
    }
   ],
   "source": [
    "#list method example\n",
    "s='good Afternoon'\n",
    "l=s.split()\n",
    "for x in l:\n",
    "    print(x)"
   ]
  },
  {
   "cell_type": "markdown",
   "metadata": {},
   "source": [
    "Joining of string is done by using join method."
   ]
  },
  {
   "cell_type": "code",
   "execution_count": 18,
   "metadata": {},
   "outputs": [
    {
     "name": "stdout",
     "output_type": "stream",
     "text": [
      "good Afternoon   :   good Morning   :   good Night\n"
     ]
    }
   ],
   "source": [
    "# join method example \n",
    "s={'good Afternoon','good Morning','good Night'}\n",
    "l='   :   '.join(s)\n",
    "print(l)"
   ]
  },
  {
   "cell_type": "code",
   "execution_count": 21,
   "metadata": {},
   "outputs": [
    {
     "name": "stdout",
     "output_type": "stream",
     "text": [
      "JAY SHREE RAM\n",
      "jay shree ram\n",
      "jAY sHREE RAM\n",
      "Jay Shree Ram\n",
      "Jay shree ram\n"
     ]
    }
   ],
   "source": [
    "s='Jay Shree ram'\n",
    "print(s.upper())\n",
    "print(s.lower())\n",
    "print(s.swapcase())#big to small and small to big\n",
    "print(s.title())#every words 1st character will upper\n",
    "print(s.capitalize()) #1st letter only capital"
   ]
  },
  {
   "cell_type": "markdown",
   "metadata": {},
   "source": [
    "Type of character present in a string"
   ]
  },
  {
   "cell_type": "code",
   "execution_count": null,
   "metadata": {},
   "outputs": [],
   "source": []
  }
 ],
 "metadata": {
  "kernelspec": {
   "display_name": "Python 3",
   "language": "python",
   "name": "python3"
  },
  "language_info": {
   "codemirror_mode": {
    "name": "ipython",
    "version": 3
   },
   "file_extension": ".py",
   "mimetype": "text/x-python",
   "name": "python",
   "nbconvert_exporter": "python",
   "pygments_lexer": "ipython3",
   "version": "3.11.7"
  }
 },
 "nbformat": 4,
 "nbformat_minor": 2
}
