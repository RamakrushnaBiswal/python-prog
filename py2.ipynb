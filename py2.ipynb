{
 "cells": [
  {
   "cell_type": "code",
   "execution_count": 5,
   "metadata": {},
   "outputs": [
    {
     "name": "stdout",
     "output_type": "stream",
     "text": [
      "Geeks four  four Geeks\n",
      "2336342916304\n"
     ]
    }
   ],
   "source": [
    "# replace() method \n",
    "a = \"Geeks for  for Geeks\"\n",
    "print(a.replace(\"for\", \"four\"))\n",
    "print(id(a))"
   ]
  },
  {
   "cell_type": "markdown",
   "metadata": {},
   "source": [
    "we can split the given string according to according to specified separetor by using split method.\n",
    "The deafult separetor is The return type of split methos is 'list'"
   ]
  },
  {
   "cell_type": "code",
   "execution_count": 11,
   "metadata": {},
   "outputs": [
    {
     "name": "stdout",
     "output_type": "stream",
     "text": [
      "good\n",
      "Afternoon\n"
     ]
    }
   ],
   "source": [
    "#list method example\n",
    "s='good Afternoon'\n",
    "l=s.split()\n",
    "for x in l:\n",
    "    print(x)"
   ]
  },
  {
   "cell_type": "markdown",
   "metadata": {},
   "source": [
    "Joining of string is done by using join method."
   ]
  },
  {
   "cell_type": "code",
   "execution_count": 18,
   "metadata": {},
   "outputs": [
    {
     "name": "stdout",
     "output_type": "stream",
     "text": [
      "good Afternoon   :   good Morning   :   good Night\n"
     ]
    }
   ],
   "source": [
    "# join method example \n",
    "s={'good Afternoon','good Morning','good Night'}\n",
    "l='   :   '.join(s)\n",
    "print(l)"
   ]
  },
  {
   "cell_type": "code",
   "execution_count": 21,
   "metadata": {},
   "outputs": [
    {
     "name": "stdout",
     "output_type": "stream",
     "text": [
      "JAY SHREE RAM\n",
      "jay shree ram\n",
      "jAY sHREE RAM\n",
      "Jay Shree Ram\n",
      "Jay shree ram\n"
     ]
    }
   ],
   "source": [
    "s='Jay Shree ram'\n",
    "print(s.upper())\n",
    "print(s.lower())\n",
    "print(s.swapcase())#big to small and small to big\n",
    "print(s.title())#every words 1st character will upper\n",
    "print(s.capitalize()) #1st letter only capital"
   ]
  },
  {
   "cell_type": "code",
   "execution_count": 4,
   "metadata": {},
   "outputs": [
    {
     "name": "stdout",
     "output_type": "stream",
     "text": [
      "['good Night', 'good Morning', 'good Afternoon']\n"
     ]
    }
   ],
   "source": [
    "#reverse\n",
    "s=['good Afternoon','good Morning','good Night']\n",
    "s.reverse()\n",
    "print(s)\n"
   ]
  },
  {
   "cell_type": "code",
   "execution_count": 8,
   "metadata": {},
   "outputs": [
    {
     "name": "stdout",
     "output_type": "stream",
     "text": [
      "[1, 2, 10, 12, 23, 30, 45]\n",
      "['Bunty', 'Cat', 'bunty', 'cat']\n"
     ]
    }
   ],
   "source": [
    "#sort\n",
    "s=[2,45,23,12,30,1,10]\n",
    "s.sort()\n",
    "print(s)\n",
    "\n",
    "a=['Bunty','bunty','cat','Cat']\n",
    "a.sort()\n",
    "print(a)"
   ]
  },
  {
   "cell_type": "markdown",
   "metadata": {},
   "source": [
    "to use sort function compulsary list should contain homogeneous data type"
   ]
  },
  {
   "cell_type": "code",
   "execution_count": 16,
   "metadata": {},
   "outputs": [
    {
     "name": "stdout",
     "output_type": "stream",
     "text": [
      "[1, 2, 3, 4, 5, 6, 11, 12, 13, 14, 15, 16]\n"
     ]
    }
   ],
   "source": [
    "#list cocatination\n",
    "a=[1,2,3,4,5,6]\n",
    "b=[11,12,13,14,15,16]\n",
    "c=a+b\n",
    "print(c)"
   ]
  },
  {
   "cell_type": "code",
   "execution_count": 21,
   "metadata": {},
   "outputs": [
    {
     "name": "stdout",
     "output_type": "stream",
     "text": [
      "False\n",
      "True\n"
     ]
    }
   ],
   "source": [
    "#comparision of list objects\n",
    "a=['Dog','Cat','Rat']\n",
    "b=['dog','cat','rat']\n",
    "print(a==b)\n",
    "print(a!=b)"
   ]
  },
  {
   "cell_type": "markdown",
   "metadata": {},
   "source": [
    "Whenever we are using comparigion operator the the number of elements/order of element/content should be considered"
   ]
  },
  {
   "cell_type": "markdown",
   "metadata": {},
   "source": [
    "when ever we using comparigin operator between two lists we get boolean value"
   ]
  },
  {
   "cell_type": "code",
   "execution_count": 25,
   "metadata": {},
   "outputs": [
    {
     "name": "stdout",
     "output_type": "stream",
     "text": [
      "[1, 2, 3, 4, 5, 6]\n",
      "[]\n"
     ]
    }
   ],
   "source": [
    "#clear\n",
    "a=[1,2,3,4,5,6]\n",
    "print(a)\n",
    "a.clear()\n",
    "print(a)"
   ]
  },
  {
   "cell_type": "code",
   "execution_count": 26,
   "metadata": {},
   "outputs": [
    {
     "name": "stdout",
     "output_type": "stream",
     "text": [
      "[1, 2, 3]\n",
      "[4, 5, 6]\n",
      "[7, 8, 9]\n"
     ]
    }
   ],
   "source": [
    "#nested lists\n",
    "nested_list = [[1, 2, 3], [4, 5, 6], [7, 8, 9]]\n",
    "\n",
    "print(nested_list[0])\n",
    "print(nested_list[1])\n",
    "print(nested_list[2])"
   ]
  },
  {
   "cell_type": "code",
   "execution_count": null,
   "metadata": {},
   "outputs": [],
   "source": [
    "#nested lists\n",
    "n=[10,20,[30,40]]\n",
    "print()"
   ]
  },
  {
   "cell_type": "code",
   "execution_count": 27,
   "metadata": {},
   "outputs": [
    {
     "name": "stdout",
     "output_type": "stream",
     "text": [
      "['e', 'o']\n"
     ]
    }
   ],
   "source": [
    "#write a program to display unique vowels present in the given word\n",
    "s='hello'\n",
    "l=[]\n",
    "for i in s:\n",
    "    if i in 'aeiou':\n",
    "        if i not in l:\n",
    "            l.append(i)\n",
    "print(l)"
   ]
  },
  {
   "cell_type": "markdown",
   "metadata": {},
   "source": [
    "We can use list tuple and set to represent a group of individual objects as a single entity if we want to represent a group of objects as key value pairs then we should go for dictionary.\n",
    "\n",
    "duplicate keys are not allowed but values can be duplicated\n",
    "\n",
    "Heteregenious objects are allowed for both key and values\n",
    "\n",
    "Dictionary ' are mutable,dynamic\n",
    "\n",
    "Indexing and sliceing are not applicable\n"
   ]
  },
  {
   "cell_type": "code",
   "execution_count": 33,
   "metadata": {},
   "outputs": [
    {
     "name": "stdout",
     "output_type": "stream",
     "text": [
      "{1: 'Bunty', 2: 'Munty', 3: 'Rama'}\n",
      "Bunty\n"
     ]
    }
   ],
   "source": [
    "# Create a dictionary\n",
    "d = {\n",
    "    1: \"Bunty\",\n",
    "    2: \"Munty\",\n",
    "    3: \"Rama\"\n",
    "}\n",
    "\n",
    "print(d)\n",
    "# Access the values\n",
    "print(d[1])"
   ]
  },
  {
   "cell_type": "code",
   "execution_count": 36,
   "metadata": {},
   "outputs": [
    {
     "name": "stdout",
     "output_type": "stream",
     "text": [
      "{1: ['Ramakrushna', 230], 2: ['Debi prasad', 299]}\n"
     ]
    }
   ],
   "source": [
    "#write a program to enter name and percentage marks in a dictionary and display the information\n",
    "d={}\n",
    "n=int(input(\"Enter the number of students:\"))\n",
    "for i in range(1,n+1):\n",
    "    name=input(\"Enter the name:\")\n",
    "    marks=int(input(\"Enter the marks:\"))\n",
    "    d[i]=[name,marks]\n",
    "print(d)"
   ]
  }
 ],
 "metadata": {
  "kernelspec": {
   "display_name": "Python 3",
   "language": "python",
   "name": "python3"
  },
  "language_info": {
   "codemirror_mode": {
    "name": "ipython",
    "version": 3
   },
   "file_extension": ".py",
   "mimetype": "text/x-python",
   "name": "python",
   "nbconvert_exporter": "python",
   "pygments_lexer": "ipython3",
   "version": "3.11.8"
  }
 },
 "nbformat": 4,
 "nbformat_minor": 2
}
