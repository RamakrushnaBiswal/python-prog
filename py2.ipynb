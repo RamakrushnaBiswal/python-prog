{
 "cells": [
  {
   "cell_type": "code",
   "execution_count": 5,
   "metadata": {},
   "outputs": [
    {
     "name": "stdout",
     "output_type": "stream",
     "text": [
      "Geeks four  four Geeks\n",
      "2336342916304\n"
     ]
    }
   ],
   "source": [
    "# replace() method \n",
    "a = \"Geeks for  for Geeks\"\n",
    "print(a.replace(\"for\", \"four\"))\n",
    "print(id(a))"
   ]
  },
  {
   "cell_type": "markdown",
   "metadata": {},
   "source": [
    "we can split the given string according to according to specified separetor by using split method.\n",
    "The deafult separetor is The return type of split methos is 'list'"
   ]
  },
  {
   "cell_type": "code",
   "execution_count": 11,
   "metadata": {},
   "outputs": [
    {
     "name": "stdout",
     "output_type": "stream",
     "text": [
      "good\n",
      "Afternoon\n"
     ]
    }
   ],
   "source": [
    "#list method example\n",
    "s='good Afternoon'\n",
    "l=s.split()\n",
    "for x in l:\n",
    "    print(x)"
   ]
  },
  {
   "cell_type": "markdown",
   "metadata": {},
   "source": [
    "Joining of string is done by using join method."
   ]
  },
  {
   "cell_type": "code",
   "execution_count": 18,
   "metadata": {},
   "outputs": [
    {
     "name": "stdout",
     "output_type": "stream",
     "text": [
      "good Afternoon   :   good Morning   :   good Night\n"
     ]
    }
   ],
   "source": [
    "# join method example \n",
    "s={'good Afternoon','good Morning','good Night'}\n",
    "l='   :   '.join(s)\n",
    "print(l)"
   ]
  },
  {
   "cell_type": "code",
   "execution_count": 21,
   "metadata": {},
   "outputs": [
    {
     "name": "stdout",
     "output_type": "stream",
     "text": [
      "JAY SHREE RAM\n",
      "jay shree ram\n",
      "jAY sHREE RAM\n",
      "Jay Shree Ram\n",
      "Jay shree ram\n"
     ]
    }
   ],
   "source": [
    "s='Jay Shree ram'\n",
    "print(s.upper())\n",
    "print(s.lower())\n",
    "print(s.swapcase())#big to small and small to big\n",
    "print(s.title())#every words 1st character will upper\n",
    "print(s.capitalize()) #1st letter only capital"
   ]
  },
  {
   "cell_type": "code",
   "execution_count": 4,
   "metadata": {},
   "outputs": [
    {
     "name": "stdout",
     "output_type": "stream",
     "text": [
      "['good Night', 'good Morning', 'good Afternoon']\n"
     ]
    }
   ],
   "source": [
    "#reverse\n",
    "s=['good Afternoon','good Morning','good Night']\n",
    "s.reverse()\n",
    "print(s)\n"
   ]
  },
  {
   "cell_type": "code",
   "execution_count": 8,
   "metadata": {},
   "outputs": [
    {
     "name": "stdout",
     "output_type": "stream",
     "text": [
      "[1, 2, 10, 12, 23, 30, 45]\n",
      "['Bunty', 'Cat', 'bunty', 'cat']\n"
     ]
    }
   ],
   "source": [
    "#sort\n",
    "s=[2,45,23,12,30,1,10]\n",
    "s.sort()\n",
    "print(s)\n",
    "\n",
    "a=['Bunty','bunty','cat','Cat']\n",
    "a.sort()\n",
    "print(a)"
   ]
  },
  {
   "cell_type": "markdown",
   "metadata": {},
   "source": [
    "to use sort function compulsary list should contain homogeneous data type"
   ]
  },
  {
   "cell_type": "code",
   "execution_count": 16,
   "metadata": {},
   "outputs": [
    {
     "name": "stdout",
     "output_type": "stream",
     "text": [
      "[1, 2, 3, 4, 5, 6, 11, 12, 13, 14, 15, 16]\n"
     ]
    }
   ],
   "source": [
    "#list cocatination\n",
    "a=[1,2,3,4,5,6]\n",
    "b=[11,12,13,14,15,16]\n",
    "c=a+b\n",
    "print(c)"
   ]
  },
  {
   "cell_type": "code",
   "execution_count": 21,
   "metadata": {},
   "outputs": [
    {
     "name": "stdout",
     "output_type": "stream",
     "text": [
      "False\n",
      "True\n"
     ]
    }
   ],
   "source": [
    "#comparision of list objects\n",
    "a=['Dog','Cat','Rat']\n",
    "b=['dog','cat','rat']\n",
    "print(a==b)\n",
    "print(a!=b)"
   ]
  },
  {
   "cell_type": "markdown",
   "metadata": {},
   "source": [
    "Whenever we are using comparigion operator the the number of elements/order of element/content should be considered"
   ]
  },
  {
   "cell_type": "markdown",
   "metadata": {},
   "source": [
    "when ever we using comparigin operator between two lists we get boolean value"
   ]
  },
  {
   "cell_type": "code",
   "execution_count": 25,
   "metadata": {},
   "outputs": [
    {
     "name": "stdout",
     "output_type": "stream",
     "text": [
      "[1, 2, 3, 4, 5, 6]\n",
      "[]\n"
     ]
    }
   ],
   "source": [
    "#clear\n",
    "a=[1,2,3,4,5,6]\n",
    "print(a)\n",
    "a.clear()\n",
    "print(a)"
   ]
  },
  {
   "cell_type": "code",
   "execution_count": 26,
   "metadata": {},
   "outputs": [
    {
     "name": "stdout",
     "output_type": "stream",
     "text": [
      "[1, 2, 3]\n",
      "[4, 5, 6]\n",
      "[7, 8, 9]\n"
     ]
    }
   ],
   "source": [
    "#nested lists\n",
    "nested_list = [[1, 2, 3], [4, 5, 6], [7, 8, 9]]\n",
    "\n",
    "print(nested_list[0])\n",
    "print(nested_list[1])\n",
    "print(nested_list[2])"
   ]
  },
  {
   "cell_type": "code",
   "execution_count": null,
   "metadata": {},
   "outputs": [],
   "source": [
    "#nested lists\n",
    "n=[10,20,[30,40]]\n",
    "print()"
   ]
  },
  {
   "cell_type": "code",
   "execution_count": 27,
   "metadata": {},
   "outputs": [
    {
     "name": "stdout",
     "output_type": "stream",
     "text": [
      "['e', 'o']\n"
     ]
    }
   ],
   "source": [
    "#write a program to display unique vowels present in the given word\n",
    "s='hello'\n",
    "l=[]\n",
    "for i in s:\n",
    "    if i in 'aeiou':\n",
    "        if i not in l:\n",
    "            l.append(i)\n",
    "print(l)"
   ]
  },
  {
   "cell_type": "markdown",
   "metadata": {},
   "source": [
    "We can use list tuple and set to represent a group of individual objects as a single entity if we want to represent a group of objects as key value pairs then we should go for dictionary.\n",
    "\n",
    "duplicate keys are not allowed but values can be duplicated\n",
    "\n",
    "Heteregenious objects are allowed for both key and values\n",
    "\n",
    "Dictionary ' are mutable,dynamic\n",
    "\n",
    "Indexing and sliceing are not applicable\n"
   ]
  },
  {
   "cell_type": "code",
   "execution_count": 33,
   "metadata": {},
   "outputs": [
    {
     "name": "stdout",
     "output_type": "stream",
     "text": [
      "{1: 'Bunty', 2: 'Munty', 3: 'Rama'}\n",
      "Bunty\n"
     ]
    }
   ],
   "source": [
    "# Create a dictionary\n",
    "d = {\n",
    "    1: \"Bunty\",\n",
    "    2: \"Munty\",\n",
    "    3: \"Rama\"\n",
    "}\n",
    "\n",
    "print(d)\n",
    "# Access the values\n",
    "print(d[1])"
   ]
  },
  {
   "cell_type": "code",
   "execution_count": 36,
   "metadata": {},
   "outputs": [
    {
     "name": "stdout",
     "output_type": "stream",
     "text": [
      "{1: ['Ramakrushna', 230], 2: ['Debi prasad', 299]}\n"
     ]
    }
   ],
   "source": [
    "#write a program to enter name and percentage marks in a dictionary and display the information\n",
    "d={}\n",
    "n=int(input(\"Enter the number of students:\"))\n",
    "for i in range(1,n+1):\n",
    "    name=input(\"Enter the name:\")\n",
    "    marks=int(input(\"Enter the marks:\"))\n",
    "    d[i]=[name,marks]\n",
    "print(d)"
   ]
  },
  {
   "cell_type": "markdown",
   "metadata": {},
   "source": [
    "How to update a dictionary\n",
    "if the key is not available then the new entry will be added to the dictionary with the specified key value pairs\n",
    "if the key is avilble then old value is replaced with new value"
   ]
  },
  {
   "cell_type": "code",
   "execution_count": 2,
   "metadata": {},
   "outputs": [
    {
     "name": "stdout",
     "output_type": "stream",
     "text": [
      "{'bunty': 55, 'manty': 50}\n"
     ]
    }
   ],
   "source": [
    "#create a dictionary and display the information\n",
    "d={'bunty': 45, 'manty': 50}\n",
    "d['bunty']=55\n",
    "print(d)"
   ]
  },
  {
   "cell_type": "code",
   "execution_count": 4,
   "metadata": {},
   "outputs": [
    {
     "name": "stdout",
     "output_type": "stream",
     "text": [
      "{'manty': 50}\n",
      "{}\n"
     ]
    }
   ],
   "source": [
    "#how to delete elements form dictionary\n",
    "d={'bunty': 45, 'manty': 50}\n",
    "del d['bunty']\n",
    "print(d)\n",
    "d.clear()\n",
    "print(d)"
   ]
  },
  {
   "cell_type": "code",
   "execution_count": 9,
   "metadata": {},
   "outputs": [
    {
     "name": "stdout",
     "output_type": "stream",
     "text": [
      "45\n",
      "50\n",
      "None\n",
      "Not available\n",
      "{'manty': 50}\n",
      "dict_keys(['bunty', 'manty'])\n",
      "dict_values([45, 50])\n",
      "dict_items([('bunty', 45), ('manty', 50)])\n",
      "{'bunty': 45, 'manty': 50, 'ramu': 60}\n",
      "{'bunty': 45, 'manty': 50}\n",
      "45\n",
      "None\n",
      "None\n",
      "{'bunty': 45, 'manty': 50, 'ramu': None}\n"
     ]
    }
   ],
   "source": [
    "#get method\n",
    "d={'bunty': 45, 'manty': 50}\n",
    "print(d.get('bunty'))\n",
    "print(d.get('manty'))\n",
    "print(d.get('ramu'))#None\n",
    "print(d.get('ramu','Not available'))\n",
    "#pop method\n",
    "d={'bunty': 45, 'manty': 50}\n",
    "d.pop('bunty')\n",
    "print(d)\n",
    "#keys method\n",
    "d={'bunty': 45, 'manty': 50}\n",
    "print(d.keys())\n",
    "#values method\n",
    "d={'bunty': 45, 'manty': 50}\n",
    "print(d.values())\n",
    "#items method\n",
    "d={'bunty': 45, 'manty': 50}\n",
    "print(d.items())\n",
    "#update method\n",
    "d={'bunty': 45, 'manty': 50}\n",
    "d1={'ramu': 60}\n",
    "d.update(d1)\n",
    "print(d)\n",
    "#copy method\n",
    "d={'bunty': 45, 'manty': 50}\n",
    "d1=d.copy()\n",
    "print(d1)\n",
    "#setdefault method\n",
    "d={'bunty': 45, 'manty': 50}\n",
    "print(d.setdefault('bunty'))\n",
    "print(d.setdefault('ramu'))\n",
    "print(d.setdefault('ramu',60))\n",
    "print(d)\n"
   ]
  },
  {
   "cell_type": "code",
   "execution_count": 1,
   "metadata": {},
   "outputs": [
    {
     "name": "stdout",
     "output_type": "stream",
     "text": [
      "hello sai good morning\n"
     ]
    }
   ],
   "source": [
    "#positional arguments\n",
    "def wish(name,msg):\n",
    "   print(\"hello\",name,msg)\n",
    "wish(\"sai\",\"good morning\")"
   ]
  },
  {
   "cell_type": "code",
   "execution_count": 2,
   "metadata": {},
   "outputs": [
    {
     "name": "stdout",
     "output_type": "stream",
     "text": [
      "hello sai good morning\n",
      "hello ravi good morning\n"
     ]
    }
   ],
   "source": [
    "#defualt arguments\n",
    "#some times we can provide default values for the positional arguments if we are not passing any name then only default value will be considered\n",
    "#after default value we can't take non default value\n",
    "def wish(name=\"sai\",msg=\"good morning\"):\n",
    "   print(\"hello\",name,msg)\n",
    "wish()\n",
    "wish(\"ravi\")"
   ]
  },
  {
   "cell_type": "code",
   "execution_count": 5,
   "metadata": {},
   "outputs": [
    {
     "name": "stdout",
     "output_type": "stream",
     "text": [
      "hello sai good morning\n"
     ]
    }
   ],
   "source": [
    "#keyword arguments\n",
    "#the order of the arguments is not important \n",
    "def wish(name,msg):\n",
    "   print(\"hello\",name,msg)\n",
    "wish(msg=\"good morning\",name=\"sai\")"
   ]
  },
  {
   "cell_type": "code",
   "execution_count": 4,
   "metadata": {},
   "outputs": [
    {
     "name": "stdout",
     "output_type": "stream",
     "text": [
      "the sum is: 30\n"
     ]
    }
   ],
   "source": [
    "#variable length arguments\n",
    "#sometimes we can pass variable number of arguments to the function such type of arguments are called variable length arguments\n",
    "#we can declare variable length arguments by using * symbol\n",
    "#we can access variable length arguments by using tuple\n",
    "def sum(*n):\n",
    "   total=0\n",
    "   for x in n:\n",
    "       total=total+x\n",
    "   print(\"the sum is:\",total)\n",
    "sum(10,20)"
   ]
  },
  {
   "cell_type": "code",
   "execution_count": 7,
   "metadata": {},
   "outputs": [
    {
     "name": "stdout",
     "output_type": "stream",
     "text": [
      "name = sai\n",
      "marks = 100\n",
      "age = 23\n"
     ]
    }
   ],
   "source": [
    "#keyword variable length arguments\n",
    "def display(**kwargs):\n",
    "   for k,v in kwargs.items():\n",
    "       print(k,\"=\",v)\n",
    "display(name=\"sai\",marks=100,age=23)"
   ]
  },
  {
   "cell_type": "code",
   "execution_count": 8,
   "metadata": {},
   "outputs": [
    {
     "name": "stdout",
     "output_type": "stream",
     "text": [
      "10\n",
      "10\n"
     ]
    }
   ],
   "source": [
    "#global variables with functions\n",
    "a=10\n",
    "def f1():\n",
    "   print(a)\n",
    "def f2():\n",
    "    print(a)\n",
    "f1()\n",
    "f2()"
   ]
  },
  {
   "cell_type": "code",
   "execution_count": 1,
   "metadata": {},
   "outputs": [
    {
     "name": "stdout",
     "output_type": "stream",
     "text": [
      "777\n",
      "777\n"
     ]
    }
   ],
   "source": [
    "#global keyword\n",
    "a=10\n",
    "def f1():\n",
    "   global a\n",
    "   a=777\n",
    "   print(a)\n",
    "def f2():\n",
    "    print(a)\n",
    "f1()\n",
    "f2()"
   ]
  },
  {
   "cell_type": "code",
   "execution_count": 4,
   "metadata": {},
   "outputs": [
    {
     "name": "stdout",
     "output_type": "stream",
     "text": [
      "the factorial of 5 is: 120\n"
     ]
    }
   ],
   "source": [
    "#recursive function\n",
    "#A function calls itself is called recursive function\n",
    "def factorial(n):\n",
    "   if n==0:\n",
    "       result=1\n",
    "   else:\n",
    "       result=n*factorial(n-1)\n",
    "   return result\n",
    "print(\"the factorial of 5 is:\",factorial(5))"
   ]
  },
  {
   "cell_type": "code",
   "execution_count": 13,
   "metadata": {},
   "outputs": [
    {
     "name": "stdout",
     "output_type": "stream",
     "text": [
      "the sum is: 9\n"
     ]
    }
   ],
   "source": [
    "#anonymous function or lambda function\n",
    "#A function without name is called anonymous function\n",
    "#we can create by using lambda keyword\n",
    "f=lambda n,m:n+m\n",
    "print(\"the sum is:\",f(4,5))"
   ]
  },
  {
   "cell_type": "code",
   "execution_count": 15,
   "metadata": {},
   "outputs": [
    {
     "name": "stdout",
     "output_type": "stream",
     "text": [
      "the square is: 16\n"
     ]
    }
   ],
   "source": [
    "#wap to find square of a number\n",
    "f=lambda n:n*n\n",
    "print(\"the square is:\",f(4))"
   ]
  },
  {
   "cell_type": "code",
   "execution_count": 16,
   "metadata": {},
   "outputs": [
    {
     "name": "stdout",
     "output_type": "stream",
     "text": [
      "the biggest number is: 20\n"
     ]
    }
   ],
   "source": [
    "#wap to find the biggest of 2 numbers\n",
    "f=lambda a,b:a if a>b else b\n",
    "print(\"the biggest number is:\",f(10,20))"
   ]
  },
  {
   "cell_type": "code",
   "execution_count": null,
   "metadata": {},
   "outputs": [],
   "source": [
    "#filter function\n",
    "#we can use filter function to filter values from the given sequence based on some condition\n",
    "#filter function returns filter object\n",
    "#filter function takes 2 arguments 1st argument is function and 2nd argument is sequence\n",
    "#filter function returns only True values\n",
    "def is_even(n):\n",
    "   return n%2==0\n",
    "l=[0,5,10,15,20,25,30]\n",
    "l1=list(filter(is_even,l))\n",
    "print(l1)"
   ]
  },
  {
   "cell_type": "code",
   "execution_count": 6,
   "metadata": {},
   "outputs": [
    {
     "name": "stdout",
     "output_type": "stream",
     "text": [
      "[0, 25, 100, 225, 400, 625, 900]\n"
     ]
    }
   ],
   "source": [
    "#map function\n",
    "#we can use map function to map values from the given sequence based on some condition\n",
    "#map function returns map object\n",
    "#map function takes 2 arguments 1st argument is function and 2nd argument is sequence\n",
    "#map function returns only True values\n",
    "def square(n):\n",
    "   return n*n\n",
    "l=[0,5,10,15,20,25,30]\n",
    "l1=list(map(square,l))\n",
    "print(l1)"
   ]
  },
  {
   "cell_type": "code",
   "execution_count": 7,
   "metadata": {},
   "outputs": [
    {
     "name": "stdout",
     "output_type": "stream",
     "text": [
      "105\n"
     ]
    }
   ],
   "source": [
    "#reduce function\n",
    "#we can use reduce function to reduce values from the given sequence based on some condition\n",
    "#reduce function returns reduce object\n",
    "#reduce function takes 2 arguments 1st argument is function and 2nd argument is sequence\n",
    "#reduce function returns only True values\n",
    "from functools import reduce\n",
    "def add(a,b):\n",
    "   return a+b\n",
    "l=[0,5,10,15,20,25,30]\n",
    "l1=reduce(add,l)\n",
    "print(l1)"
   ]
  },
  {
   "cell_type": "code",
   "execution_count": 8,
   "metadata": {},
   "outputs": [
    {
     "name": "stdout",
     "output_type": "stream",
     "text": [
      "[0, 10, 20, 30]\n"
     ]
    }
   ],
   "source": [
    "#filter function\n",
    "#we can use filter function to filter values from the given sequence based on some condition\n",
    "#filter function returns filter object\n",
    "#filter function takes 2 arguments 1st argument is function and 2nd argument is sequence\n",
    "#filter function returns only True values\n",
    "def is_even(n):\n",
    "   return n%2==0\n",
    "l=[0,5,10,15,20,25,30]\n",
    "l1=list(filter(is_even,l))\n",
    "print(l1)\n"
   ]
  },
  {
   "cell_type": "code",
   "execution_count": 9,
   "metadata": {},
   "outputs": [
    {
     "name": "stdout",
     "output_type": "stream",
     "text": [
      "hello abc good morning\n",
      "hello ram good morning\n"
     ]
    }
   ],
   "source": [
    "#function Decorators\n",
    "#decoretor is afunction which can take a function as an argument and extend its functionality and retuns modified function with extended functionality\n",
    "#the main objective of the fuction is we can extend the functionality of existing function with out modifying that function\n",
    "def decorator(f):\n",
    "   def inner(name):\n",
    "    if name==\"ram\":\n",
    "        print(\"hello\",name,\"good morning\")\n",
    "    else:\n",
    "        f(name)\n",
    "   return inner\n",
    "@decorator\n",
    "def wish(name):\n",
    "   print(\"hello\",name,\"good morning\")\n",
    "wish(\"abc\")\n",
    "wish(\"ram\")"
   ]
  },
  {
   "cell_type": "code",
   "execution_count": 12,
   "metadata": {},
   "outputs": [
    {
     "name": "stdout",
     "output_type": "stream",
     "text": [
      "hello abc good morning\n",
      "hello ram good morning\n"
     ]
    }
   ],
   "source": [
    "#how to call same function with decorator or without decorator\n",
    "#without decorator\n",
    "def wish(name):\n",
    "   print(\"hello\",name,\"good morning\")\n",
    "wish(\"abc\")\n",
    "wish(\"ram\")\n",
    "\n",
    "#with decorator"
   ]
  },
  {
   "cell_type": "code",
   "execution_count": 17,
   "metadata": {},
   "outputs": [
    {
     "name": "stdout",
     "output_type": "stream",
     "text": [
      "400\n"
     ]
    }
   ],
   "source": [
    "#decorator chaing\n",
    "#we can use decorator chaining to extend the functionality of existing function with out modifying that function\n",
    "def decor1(func):\n",
    "   def inner():\n",
    "       x=func()\n",
    "       return x*x\n",
    "   return inner\n",
    "def decor2(func):\n",
    "   def inner():\n",
    "       x=func()\n",
    "       return 2*x\n",
    "   return inner\n",
    "@decor1\n",
    "@decor2\n",
    "def num():\n",
    "   return 10\n",
    "print(num())"
   ]
  },
  {
   "cell_type": "code",
   "execution_count": 9,
   "metadata": {},
   "outputs": [
    {
     "name": "stdout",
     "output_type": "stream",
     "text": [
      "<class 'generator'>\n",
      "a\n",
      "b\n",
      "c\n"
     ]
    }
   ],
   "source": [
    "#genrator function\n",
    "#we can use generator function to generate values from the given sequence based on some condition \n",
    "#generator function returns generator object \n",
    "#generator function takes 2 arguments 1st argument is function and 2nd argument is sequence \n",
    "#generator function returns only True values\n",
    "def mygenrator():\n",
    "   yield 'a'\n",
    "   yield 'b'\n",
    "   yield 'c'\n",
    "\n",
    "value=mygenrator()\n",
    "print(type(value))\n",
    "print(next(value))\n",
    "print(next(value)) \n",
    "print(next(value))\n",
    "# print(next(value)) #stop iteration error\n"
   ]
  },
  {
   "cell_type": "code",
   "execution_count": 11,
   "metadata": {},
   "outputs": [
    {
     "name": "stdout",
     "output_type": "stream",
     "text": [
      "liftoff\n",
      "5\n",
      "4\n",
      "3\n",
      "2\n",
      "1\n"
     ]
    }
   ],
   "source": [
    "def countdown(num):\n",
    "   print(\"liftoff\")\n",
    "   while num>0:\n",
    "       yield num\n",
    "       num=num-1\n",
    "value=countdown(5)\n",
    "for x in value:\n",
    "    print(x)\n",
    "       "
   ]
  },
  {
   "cell_type": "code",
   "execution_count": 13,
   "metadata": {},
   "outputs": [
    {
     "name": "stdout",
     "output_type": "stream",
     "text": [
      "1\n",
      "2\n",
      "3\n",
      "4\n",
      "5\n",
      "6\n",
      "7\n",
      "8\n",
      "9\n",
      "10\n"
     ]
    }
   ],
   "source": [
    "#write a generator func to print 1st n numbers\n",
    "a=int(input(\"enter a number to generate: \"))\n",
    "def mygenrator(n):\n",
    "   num=1\n",
    "   while num<=n:\n",
    "       yield num\n",
    "       num=num+1\n",
    "value=mygenrator(a)\n",
    "for x in value:\n",
    "    print(x)"
   ]
  },
  {
   "cell_type": "code",
   "execution_count": 14,
   "metadata": {},
   "outputs": [
    {
     "name": "stdout",
     "output_type": "stream",
     "text": [
      "0\n",
      "1\n",
      "1\n",
      "2\n",
      "3\n",
      "5\n",
      "8\n",
      "13\n",
      "21\n",
      "34\n"
     ]
    }
   ],
   "source": [
    "#write a generator function to print fibbonacci series\n",
    "a=int(input(\"Enter a number to generate: \"))\n",
    "def fib(n):\n",
    "   a,b=0,1\n",
    "   while n>0:\n",
    "       yield a\n",
    "       a,b=b,a+b\n",
    "       n=n-1\n",
    "value=fib(a)\n",
    "for x in value:\n",
    "    print(x)"
   ]
  },
  {
   "cell_type": "code",
   "execution_count": null,
   "metadata": {},
   "outputs": [],
   "source": [
    "#when compared with classs lwvwl iteretors generators are very easy to use \n",
    "#improve memory utilization and faster execution time\n",
    "#generetors are best sweatble for reading data for large number of files\n"
   ]
  },
  {
   "cell_type": "code",
   "execution_count": 16,
   "metadata": {},
   "outputs": [
    {
     "name": "stdout",
     "output_type": "stream",
     "text": [
      "hello bunty your age is 23\n"
     ]
    }
   ],
   "source": [
    "#format in python\n",
    "print(\"hello {name} your age is {age}\".format(name='bunty',age=23))\n",
    "# print(\"hello {1} your age is {0}\".format(name,age))"
   ]
  }
 ],
 "metadata": {
  "kernelspec": {
   "display_name": "Python 3",
   "language": "python",
   "name": "python3"
  },
  "language_info": {
   "codemirror_mode": {
    "name": "ipython",
    "version": 3
   },
   "file_extension": ".py",
   "mimetype": "text/x-python",
   "name": "python",
   "nbconvert_exporter": "python",
   "pygments_lexer": "ipython3",
   "version": "3.11.8"
  }
 },
 "nbformat": 4,
 "nbformat_minor": 2
}
