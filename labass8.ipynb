{
 "cells": [
  {
   "cell_type": "code",
   "execution_count": 14,
   "metadata": {},
   "outputs": [
    {
     "name": "stdout",
     "output_type": "stream",
     "text": [
      "All the students are good...\n",
      "this is a good boy \n",
      "she is a good girl \n"
     ]
    }
   ],
   "source": [
    "#wap to read last n lines of a file\n",
    "with open('abc.txt', 'r') as f:\n",
    "    lines = f.read()\n",
    "    print(lines)\n"
   ]
  },
  {
   "cell_type": "code",
   "execution_count": 10,
   "metadata": {},
   "outputs": [
    {
     "name": "stdout",
     "output_type": "stream",
     "text": [
      "['All the students are good...\\n', 'this is a good boy \\n', 'she is a good girl ']\n"
     ]
    }
   ],
   "source": [
    "#wap to read the line by line and store in into a list\n",
    "with open('abc.txt', 'r') as f:\n",
    "    lines = f.readlines()\n",
    "    print(lines)"
   ]
  },
  {
   "cell_type": "code",
   "execution_count": 16,
   "metadata": {},
   "outputs": [
    {
     "name": "stdout",
     "output_type": "stream",
     "text": [
      "{'All': 1, 'the': 1, 'students': 1, 'are': 1, 'good...': 1, 'this': 1, 'is': 2, 'a': 2, 'good': 2, 'boy': 1, 'she': 1, 'girl': 1}\n"
     ]
    }
   ],
   "source": [
    "# wap to count the frequency of word in a file\n",
    "with open('abc.txt', 'r') as f:\n",
    "    words = f.read().split()\n",
    "    wordCount = {}\n",
    "    for word in words:\n",
    "        if word in wordCount:\n",
    "            wordCount[word] += 1\n",
    "        else:\n",
    "            wordCount[word] = 1\n",
    "print(wordCount)"
   ]
  },
  {
   "cell_type": "code",
   "execution_count": 25,
   "metadata": {},
   "outputs": [
    {
     "name": "stdout",
     "output_type": "stream",
     "text": [
      "File copied\n"
     ]
    }
   ],
   "source": [
    "#wap to copy the content of a file to another file?\n",
    "with open('abc.txt', 'r') as f1, open('abc_copy.txt', 'w') as f2:\n",
    "    data = f1.read()\n",
    "    f2.write(data)\n",
    "print(\"File copied\")"
   ]
  },
  {
   "cell_type": "code",
   "execution_count": 26,
   "metadata": {},
   "outputs": [
    {
     "name": "stdout",
     "output_type": "stream",
     "text": [
      "All the students are good... All the students are good...\n",
      "this is a good boy this is a good boy\n",
      "she is a good girl she is a good girl\n"
     ]
    }
   ],
   "source": [
    "#wap to combine eachline from first file with the coresponding line in second file?\n",
    "with open('abc.txt', 'r') as f1, open('abc_copy.txt', 'r') as f2:\n",
    "    for line1, line2 in zip(f1, f2):\n",
    "        print(line1.strip(), line2.strip())"
   ]
  },
  {
   "cell_type": "code",
   "execution_count": 24,
   "metadata": {},
   "outputs": [
    {
     "name": "stdout",
     "output_type": "stream",
     "text": [
      "15\n"
     ]
    }
   ],
   "source": [
    "#wap that takes a text file as input and return the number of words of a given text file?\n",
    "def count_words(file_name):\n",
    "    with open(file_name, 'r') as f:\n",
    "        words = f.read().split()\n",
    "    return len(words)\n",
    "print(count_words('abc.txt'))"
   ]
  }
 ],
 "metadata": {
  "kernelspec": {
   "display_name": "Python 3",
   "language": "python",
   "name": "python3"
  },
  "language_info": {
   "codemirror_mode": {
    "name": "ipython",
    "version": 3
   },
   "file_extension": ".py",
   "mimetype": "text/x-python",
   "name": "python",
   "nbconvert_exporter": "python",
   "pygments_lexer": "ipython3",
   "version": "3.11.9"
  }
 },
 "nbformat": 4,
 "nbformat_minor": 2
}
