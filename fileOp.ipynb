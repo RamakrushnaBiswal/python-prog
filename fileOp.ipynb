{
 "cells": [
  {
   "cell_type": "code",
   "execution_count": 1,
   "metadata": {},
   "outputs": [
    {
     "name": "stdout",
     "output_type": "stream",
     "text": [
      "text.txt\n",
      "w\n",
      "True\n",
      "False\n"
     ]
    }
   ],
   "source": [
    "f=open(\"text.txt\",'w')\n",
    "# print(f.open())\n",
    "print(f.name)\n",
    "print(f.mode)\n",
    "print(f.writable())\n",
    "print(f.readable())"
   ]
  },
  {
   "cell_type": "code",
   "execution_count": 2,
   "metadata": {},
   "outputs": [],
   "source": [
    "f=open('text.txt','w')\n",
    "f.write(\"bunty is a good boy !!\\n\")\n",
    "f.write(\"bunty is a good student !!\\n\")\n",
    "f.close()"
   ]
  },
  {
   "cell_type": "code",
   "execution_count": 3,
   "metadata": {},
   "outputs": [
    {
     "name": "stdout",
     "output_type": "stream",
     "text": [
      "bunty is a good boy !!\n",
      "bunty is a good student !!\n",
      "\n"
     ]
    }
   ],
   "source": [
    "#reading character data from text files\n",
    "f=open('text.txt','r')\n",
    "data=f.read()\n",
    "print(data)\n",
    "f.close()"
   ]
  },
  {
   "cell_type": "code",
   "execution_count": 4,
   "metadata": {},
   "outputs": [
    {
     "name": "stdout",
     "output_type": "stream",
     "text": [
      "0\n",
      "bunty is a good boy !!\n",
      "bunty is a good student !!\n",
      "\n",
      "52\n",
      "bunty is a good boy !!\n",
      "bunty is a good student !!\n",
      "\n",
      "True\n"
     ]
    }
   ],
   "source": [
    "f=open('text.txt','r')\n",
    "print(f.tell())\n",
    "data=f.read()\n",
    "print(data)\n",
    "print(f.tell())\n",
    "f.seek(0)\n",
    "data=f.read()\n",
    "print(data)\n",
    "f.close()\n",
    "print(f.closed)"
   ]
  },
  {
   "cell_type": "code",
   "execution_count": 11,
   "metadata": {},
   "outputs": [
    {
     "name": "stdout",
     "output_type": "stream",
     "text": [
      "All the students are stupid\n",
      "the current cursor position is 27\n",
      "the current cursor position is 21\n",
      "data after modification:\n",
      "All the students are stupid\n"
     ]
    }
   ],
   "source": [
    "data=\"All the students are stupid\"\n",
    "f=open(\"abc.txt\",'w')\n",
    "f.write(data)\n",
    "with open(\"abc.txt\",'r+') as f:\n",
    "    text=f.read()\n",
    "    print(text)\n",
    "    print(\"the current cursor position is\",f.tell()) \n",
    "    f.seek(21)\n",
    "    print(\"the current cursor position is\",f.tell())\n",
    "    f.write(\"good...\")\n",
    "    f.seek(0)\n",
    "    print(\"data after modification:\")\n",
    "    print(text)"
   ]
  }
 ],
 "metadata": {
  "kernelspec": {
   "display_name": "Python 3",
   "language": "python",
   "name": "python3"
  },
  "language_info": {
   "codemirror_mode": {
    "name": "ipython",
    "version": 3
   },
   "file_extension": ".py",
   "mimetype": "text/x-python",
   "name": "python",
   "nbconvert_exporter": "python",
   "pygments_lexer": "ipython3",
   "version": "3.11.8"
  }
 },
 "nbformat": 4,
 "nbformat_minor": 2
}
