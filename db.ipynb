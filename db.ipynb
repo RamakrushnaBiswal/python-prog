{
 "cells": [
  {
   "cell_type": "code",
   "execution_count": 10,
   "metadata": {},
   "outputs": [
    {
     "name": "stdout",
     "output_type": "stream",
     "text": [
      "database created successfully\n",
      "(1, 'sai', 100)\n",
      "(2, 'sai', 100)\n",
      "(3, 'sai', 100)\n",
      "(4, 'sai', 100)\n"
     ]
    }
   ],
   "source": [
    "#database connect\n",
    "import sqlite3\n",
    "con=sqlite3.connect('mydatabase.db')\n",
    "cur=con.cursor()\n",
    "print(\"database created successfully\")\n",
    "# con.execute(\"create table student(id integer primary key not null,name text,marks integer)\")\n",
    "# print(\"table created successfully\")\n",
    "# con.execute(\"insert into student values(1,'sai',100)\")\n",
    "# con.execute(\"insert into student values(2,'sai',100)\")\n",
    "# con.execute(\"insert into student values(3,'sai',100)\")\n",
    "# con.execute(\"insert into student values(4,'sai',100)\")\n",
    "# con.commit()\n",
    "# print(\"data inserted successfully\")\n",
    "\n",
    "#fetching data from table\n",
    "cur.execute(\"select * from student\")\n",
    "for i in cur:\n",
    "    print(i)\n",
    "    "
   ]
  },
  {
   "cell_type": "markdown",
   "metadata": {},
   "source": [
    "Executing several task simultaneously is the concept of multi tasking.\n",
    "There 2 types of multi tasking\n",
    "    -->Process based multi tasking\n",
    "    -->Thread based multi tasking\n",
    "Process based multi tasking:-\n",
    "    Executing several tasks simultaneously where each task is a separate independent process is called process based multitasking\n",
    "    Ex-While typing program in editor we can listen audio songs from same system at the same time we can download a file from the   internet all these taskare executing simlutaneously and independent of each other hence it is process based multi tasking.\n",
    "    This type of multi tasking is best suitable at OS level\n",
    "Thread based multi tasking:\n",
    "   Executing several tasks simultaneously where each task is a separate independent part of the same programis called thread based multitasking.\n"
   ]
  },
  {
   "cell_type": "code",
   "execution_count": 1,
   "metadata": {},
   "outputs": [
    {
     "name": "stdout",
     "output_type": "stream",
     "text": [
      "t1\n",
      "t2\n",
      "done\n"
     ]
    },
    {
     "name": "stderr",
     "output_type": "stream",
     "text": [
      "C:\\Users\\7tyga\\AppData\\Local\\Temp\\ipykernel_20448\\2077311446.py:4: DeprecationWarning: currentThread() is deprecated, use current_thread() instead\n",
      "  print(threading.currentThread().getName())\n",
      "C:\\Users\\7tyga\\AppData\\Local\\Temp\\ipykernel_20448\\2077311446.py:4: DeprecationWarning: getName() is deprecated, get the name attribute instead\n",
      "  print(threading.currentThread().getName())\n"
     ]
    }
   ],
   "source": [
    "#setname and getname of the thread\n",
    "import threading\n",
    "def display():\n",
    "    print(threading.currentThread().getName())\n",
    "\n",
    "t1=threading.Thread(target=display,name=\"t1\")\n",
    "t2=threading.Thread(target=display,name=\"t2\")\n",
    "t1.start()\n",
    "t2.start()\n",
    "t1.join()\n",
    "t2.join()\n",
    "print(\"done\")"
   ]
  }
 ],
 "metadata": {
  "kernelspec": {
   "display_name": "Python 3",
   "language": "python",
   "name": "python3"
  },
  "language_info": {
   "codemirror_mode": {
    "name": "ipython",
    "version": 3
   },
   "file_extension": ".py",
   "mimetype": "text/x-python",
   "name": "python",
   "nbconvert_exporter": "python",
   "pygments_lexer": "ipython3",
   "version": "3.11.9"
  }
 },
 "nbformat": 4,
 "nbformat_minor": 2
}
