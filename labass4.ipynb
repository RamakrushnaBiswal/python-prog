{
 "cells": [
  {
   "cell_type": "code",
   "execution_count": 1,
   "metadata": {},
   "outputs": [
    {
     "name": "stdout",
     "output_type": "stream",
     "text": [
      "the list is: [4, 7, 10, 28, 30, 36, 38, 52, 70, 90]\n",
      "the second largest element is: 7\n",
      "the second smallest element is: 70\n"
     ]
    }
   ],
   "source": [
    "#write to print the second largest and second smallest element in a list of 10 without using sort function\n",
    "list=[10,70,30,28,90,38,4,7,52,36]\n",
    "for i in range(10):\n",
    "    for j in range(9):\n",
    "        if list[j]>list[j+1]:\n",
    "            t=list[j]\n",
    "            list[j]=list[j+1]\n",
    "            list[j+1]=t\n",
    "print(\"the list is:\",list)\n",
    "print(\"the second largest element is:\",list[1])\n",
    "print(\"the second smallest element is:\",list[len(list)-2])"
   ]
  },
  {
   "cell_type": "code",
   "execution_count": 31,
   "metadata": {},
   "outputs": [
    {
     "name": "stdout",
     "output_type": "stream",
     "text": [
      "['1apple', '2banana', '3cherry', '4date', '5elderberry']\n"
     ]
    }
   ],
   "source": [
    "# WAP to create two lists first list containing five elements and second list containing five strings print both the lists one element from eachlist combine at a time\n",
    "a = [1, 2, 3, 4, 5]\n",
    "b = ['apple', 'banana', 'cherry', 'date', 'elderberry']\n",
    "c = [] \n",
    "for i in range(len(a)):\n",
    "    c.append(str(a[i]) + b[i])\n",
    "print(c)"
   ]
  },
  {
   "cell_type": "code",
   "execution_count": 32,
   "metadata": {},
   "outputs": [
    {
     "name": "stdout",
     "output_type": "stream",
     "text": [
      "[6, 2, 8, 4, 10, 6, 12, 8, 14, 10, 16, 12, 18, 14, 20, 16, 22, 18, 24, 20]\n"
     ]
    }
   ],
   "source": [
    "#wap to create an integer list of 20 elements increase the odd valued elements by 5\n",
    "a = [1, 2, 3, 4, 5, 6, 7, 8, 9, 10, 11, 12, 13, 14, 15, 16, 17, 18, 19, 20]\n",
    "for i in range(len(a)):\n",
    "    if a[i]%2 != 0:\n",
    "        a[i] = a[i] + 5\n",
    "print(a)"
   ]
  },
  {
   "cell_type": "code",
   "execution_count": 61,
   "metadata": {},
   "outputs": [
    {
     "name": "stdout",
     "output_type": "stream",
     "text": [
      "0 1 1 2 3 5 8 13 21 34 55 89 144 233 377 "
     ]
    }
   ],
   "source": [
    "#wap to create a function that prints the first 15 terms of the Fibonacci sequence without using recursion\n",
    "X=15 \n",
    "def fibonacci(n):\n",
    "    a, b = 0, 1\n",
    "    count = 0\n",
    "    while count < n:\n",
    "        print(a, end=\" \")\n",
    "        a, b = b,a + b\n",
    "        count += 1\n",
    "\n",
    "fibonacci(X)"
   ]
  },
  {
   "cell_type": "code",
   "execution_count": 55,
   "metadata": {},
   "outputs": [
    {
     "name": "stdout",
     "output_type": "stream",
     "text": [
      "[2, 4, 6, 8, 10]\n"
     ]
    }
   ],
   "source": [
    "# WAP to create a function that takes list as argument and returns the even values of the list. Print the new list with even values\n",
    "a = []\n",
    "def evenValue(s):\n",
    "    for i in range(len(s)):\n",
    "        if s[i] % 2 == 0:\n",
    "            a.append(s[i])\n",
    "\n",
    "m = [1, 2, 3, 4, 5, 6, 7, 8, 9, 10]\n",
    "evenValue(m)\n",
    "print(a)"
   ]
  },
  {
   "cell_type": "code",
   "execution_count": 23,
   "metadata": {},
   "outputs": [
    {
     "name": "stdout",
     "output_type": "stream",
     "text": [
      "120\n"
     ]
    }
   ],
   "source": [
    "#wap to calculate the factorial of a number using recusion\n",
    "num = int(input(\"Enter a number: \"))\n",
    "def factorial(n):\n",
    "    if n == 0:\n",
    "        return 1\n",
    "    else:\n",
    "        return n * factorial(n - 1)\n",
    "result = factorial(num)\n",
    "print(result)"
   ]
  }
 ],
 "metadata": {
  "kernelspec": {
   "display_name": "Python 3",
   "language": "python",
   "name": "python3"
  },
  "language_info": {
   "codemirror_mode": {
    "name": "ipython",
    "version": 3
   },
   "file_extension": ".py",
   "mimetype": "text/x-python",
   "name": "python",
   "nbconvert_exporter": "python",
   "pygments_lexer": "ipython3",
   "version": "3.11.8"
  }
 },
 "nbformat": 4,
 "nbformat_minor": 2
}
