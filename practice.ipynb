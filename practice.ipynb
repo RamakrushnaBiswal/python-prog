{
 "cells": [
  {
   "cell_type": "code",
   "execution_count": 1,
   "metadata": {},
   "outputs": [
    {
     "name": "stdout",
     "output_type": "stream",
     "text": [
      "hello world\n",
      "hi bunty Good morning !!\n"
     ]
    }
   ],
   "source": [
    "#hello world\n",
    "print('hello world')\n",
    "a='bunty'\n",
    "print('hi',a,'Good morning !!')"
   ]
  },
  {
   "cell_type": "code",
   "execution_count": 2,
   "metadata": {},
   "outputs": [
    {
     "name": "stdout",
     "output_type": "stream",
     "text": [
      "hi Bunty,i Love You < 3\n"
     ]
    }
   ],
   "source": [
    "#format\n",
    "a='hi {dear},i Love You < {n}'\n",
    "b=a.format(dear='Bunty',n=3)\n",
    "print(b)"
   ]
  },
  {
   "cell_type": "code",
   "execution_count": 3,
   "metadata": {},
   "outputs": [
    {
     "name": "stdout",
     "output_type": "stream",
     "text": [
      "0\n",
      "1\n",
      "2\n",
      "3\n",
      "4\n",
      "5\n",
      "6\n",
      "7\n",
      "8\n",
      "9\n",
      "Here is the list using range  [2, 5, 8, 11, 14, 17]\n",
      "Hi bunty\n",
      "Hi monty\n",
      "Hi ram\n"
     ]
    }
   ],
   "source": [
    "# range function in loop\n",
    "for i in range(10):\n",
    "    print(i)\n",
    "\n",
    "print('Here is the list using range ',list(range(2,20,3))) #with some interval\n",
    "\n",
    "a=['bunty','monty','ram']\n",
    "for i in range(len(a)):\n",
    "    print('Hi',a[i])"
   ]
  },
  {
   "cell_type": "code",
   "execution_count": 4,
   "metadata": {},
   "outputs": [
    {
     "name": "stdout",
     "output_type": "stream",
     "text": [
      "0\n",
      "1\n",
      "4\n",
      "5\n",
      "6\n",
      "no item is left !\n"
     ]
    }
   ],
   "source": [
    "#for loop in else\n",
    "digits=[0,1,4,5,6]\n",
    "for i in digits:\n",
    "    print(i)\n",
    "else:\n",
    "    print('no item is left !')\n"
   ]
  },
  {
   "cell_type": "code",
   "execution_count": 5,
   "metadata": {},
   "outputs": [
    {
     "name": "stdout",
     "output_type": "stream",
     "text": [
      "The sum is 55\n"
     ]
    }
   ],
   "source": [
    "# n = int(input(”Enter n: ”))\n",
    "n = 10\n",
    "# initialize sum and counter\n",
    "sum = 0\n",
    "i = 1\n",
    "while i <= n:\n",
    "    sum = sum + i\n",
    "    i = i+1 # update counter\n",
    "# print the sum\n",
    "print('The sum is', sum)\n"
   ]
  },
  {
   "cell_type": "code",
   "execution_count": 6,
   "metadata": {},
   "outputs": [
    {
     "name": "stdout",
     "output_type": "stream",
     "text": [
      "b\n",
      "u\n"
     ]
    }
   ],
   "source": [
    "#break\n",
    "for val in 'bunty':\n",
    "    if val=='n':\n",
    "        break\n",
    "    print(val)"
   ]
  },
  {
   "cell_type": "code",
   "execution_count": 7,
   "metadata": {},
   "outputs": [
    {
     "name": "stdout",
     "output_type": "stream",
     "text": [
      "m\n",
      "o\n",
      "t\n",
      "y\n"
     ]
    }
   ],
   "source": [
    "#continue\n",
    "for i in 'monty':\n",
    "    if i=='n':\n",
    "        continue\n",
    "    print(i)"
   ]
  },
  {
   "cell_type": "markdown",
   "metadata": {},
   "source": [
    "in python pass is a null statement the difference beteen comment and pass statement in python is that ,while the interpreter ignores a comment entirely,pass is not ignored. However, nothing happens when pass is\n",
    "executed. It results into no operation (NOP)"
   ]
  },
  {
   "cell_type": "code",
   "execution_count": 8,
   "metadata": {},
   "outputs": [],
   "source": [
    "#pass statement\n",
    "a='bunty'\n",
    "for i in range(len(a)):\n",
    "    pass"
   ]
  },
  {
   "cell_type": "code",
   "execution_count": 9,
   "metadata": {},
   "outputs": [
    {
     "name": "stdout",
     "output_type": "stream",
     "text": [
      "x= 10\n",
      "y= 5\n"
     ]
    }
   ],
   "source": [
    "#swapping of two numbers\n",
    "x=5\n",
    "y=10\n",
    "x,y=y,x\n",
    "print('x=',x)\n",
    "print('y=',y)\n",
    "\n"
   ]
  },
  {
   "cell_type": "code",
   "execution_count": 10,
   "metadata": {},
   "outputs": [
    {
     "name": "stdout",
     "output_type": "stream",
     "text": [
      "Hello buddy !!\n"
     ]
    }
   ],
   "source": [
    "#functions in python\n",
    "def first_func():\n",
    "    return 'Hello buddy !!'  #return in a string format\n",
    "a=first_func()\n",
    "print(a) #return a pure sentence  "
   ]
  },
  {
   "cell_type": "code",
   "execution_count": 11,
   "metadata": {},
   "outputs": [
    {
     "name": "stdout",
     "output_type": "stream",
     "text": [
      "0 #0 #0 #0 #"
     ]
    }
   ],
   "source": [
    "#Exam\n",
    "def Diff(N1,N2):\n",
    "    if N1>N2:\n",
    "        return N1-N2\n",
    "    else:\n",
    "        return N2-N1\n",
    "NUM=[10,23,14,54,32]\n",
    "for CNT in range(4,0,-1):\n",
    "    A=NUM[CNT]\n",
    "    B=NUM[CNT]\n",
    "    print(Diff(A,B),'#',end='')"
   ]
  },
  {
   "cell_type": "code",
   "execution_count": 12,
   "metadata": {},
   "outputs": [
    {
     "name": "stdout",
     "output_type": "stream",
     "text": [
      "(22, 44, 66)\n"
     ]
    }
   ],
   "source": [
    "tuple1=(11,22,33,44,55,66)\n",
    "list1=list(tuple1)\n",
    "new_list=[]\n",
    "for i in list1:\n",
    "    if i%2==0:\n",
    "        new_list.append(i)\n",
    "new_tuple=tuple(new_list)\n",
    "print(new_tuple)"
   ]
  },
  {
   "cell_type": "code",
   "execution_count": 13,
   "metadata": {},
   "outputs": [],
   "source": [
    "#list out 5 diffeence between list and tuple\n",
    "#1. list is mutable while tuple is immutable\n",
    "#2. list is defined by [] while tuple is defined by ()\n",
    "#3. list is slower than tuple\n",
    "#4. list has more built-in functions than tuple\n",
    "#5. list has more memory than tuple"
   ]
  },
  {
   "cell_type": "code",
   "execution_count": 14,
   "metadata": {},
   "outputs": [
    {
     "name": "stdout",
     "output_type": "stream",
     "text": [
      "True\n",
      "False\n"
     ]
    }
   ],
   "source": [
    "#Describe identity operator with example\n",
    "#The identity operator is used to check if two variables are located on the same part of the memory. It is denoted by the keyword \"is\".\n",
    "#Example:\n",
    "x = 5\n",
    "y = 5\n",
    "print(x is y) #True\n",
    "print(x is not y) #False"
   ]
  },
  {
   "cell_type": "code",
   "execution_count": 15,
   "metadata": {},
   "outputs": [
    {
     "ename": "ValueError",
     "evalue": "not enough values to unpack (expected 3, got 0)",
     "output_type": "error",
     "traceback": [
      "\u001b[1;31m---------------------------------------------------------------------------\u001b[0m",
      "\u001b[1;31mValueError\u001b[0m                                Traceback (most recent call last)",
      "Cell \u001b[1;32mIn[15], line 3\u001b[0m\n\u001b[0;32m      1\u001b[0m \u001b[38;5;66;03m#write the syntax how to read multiple homogenoue values in a single line\u001b[39;00m\n\u001b[0;32m      2\u001b[0m \u001b[38;5;66;03m#The syntax to read multiple homogenoue values in a single line is:\u001b[39;00m\n\u001b[1;32m----> 3\u001b[0m x,y,z\u001b[38;5;241m=\u001b[39m\u001b[38;5;28mmap\u001b[39m(\u001b[38;5;28mint\u001b[39m,\u001b[38;5;28minput\u001b[39m()\u001b[38;5;241m.\u001b[39msplit()) \u001b[38;5;66;03m#for integer\u001b[39;00m\n\u001b[0;32m      4\u001b[0m \u001b[38;5;66;03m# x,y,z=map(float,input().split()) #for float\u001b[39;00m\n\u001b[0;32m      5\u001b[0m \u001b[38;5;66;03m# x,y,z=map(str,input().split()) #for string\u001b[39;00m\n\u001b[0;32m      6\u001b[0m \u001b[38;5;28mprint\u001b[39m(x,y,z)\n",
      "\u001b[1;31mValueError\u001b[0m: not enough values to unpack (expected 3, got 0)"
     ]
    }
   ],
   "source": [
    "#write the syntax how to read multiple homogenoue values in a single line\n",
    "#The syntax to read multiple homogenoue values in a single line is:\n",
    "x,y,z=map(int,input().split()) #for integer\n",
    "# x,y,z=map(float,input().split()) #for float\n",
    "# x,y,z=map(str,input().split()) #for string\n",
    "print(x,y,z)\n",
    "\n"
   ]
  },
  {
   "cell_type": "code",
   "execution_count": null,
   "metadata": {},
   "outputs": [],
   "source": [
    "# What are the key features of Python?\n",
    "# 1. Easy to learn and use\n",
    "# 2. Expressive language\n",
    "# 3. Interpreted language\n",
    "# 4. Cross-platform language\n",
    "# 5. Free and open-source\n",
    "# 6. Object-oriented language\n",
    "# 7. Extensible\n",
    "# 8. Large standard library\n",
    "# 9. GUI Programming Support\n",
    "# 10. Integrated\n",
    "# 11. Dynamic Memory Allocation\n",
    "# 12. High-level language"
   ]
  },
  {
   "cell_type": "markdown",
   "metadata": {},
   "source": [
    "# What type of language is python? Programming or scripting?\n",
    "# Python is a high-level programming language that is used for general-purpose programming. It is an interpreted language. Python is a scripting language, like Ruby, Perl, and PHP. Python is used for web development, desktop application development, game development, and many more.\n"
   ]
  },
  {
   "cell_type": "code",
   "execution_count": null,
   "metadata": {},
   "outputs": [],
   "source": [
    "# How is Python an interpreted language?\n",
    "# Python is an interpreted language. It is executed line by line at a time. The Python interpreter reads the source code and converts it into an intermediate language, which is again translated into the native language or machine language that is executed."
   ]
  },
  {
   "cell_type": "code",
   "execution_count": null,
   "metadata": {},
   "outputs": [],
   "source": [
    "# How is Python an interpreted language?\n",
    "# Python is an interpreted language. It is executed line by line at a time. The Python interpreter reads the source code and converts it into an intermediate language, which is again translated into the native language or machine language that is executed."
   ]
  },
  {
   "cell_type": "code",
   "execution_count": null,
   "metadata": {},
   "outputs": [],
   "source": [
    "#  What is pep 8?\n",
    "# PEP 8 is a coding convention, a set of recommendation, about how to write your Python code more readable. It was written by Guido van Rossum, Barry Warsaw, and Nick Coghlan in 2001. The primary focus of PEP 8 is to improve the readability and consistency of Python code."
   ]
  },
  {
   "cell_type": "code",
   "execution_count": null,
   "metadata": {},
   "outputs": [],
   "source": [
    "#  How is memory managed in Python?\n",
    "# Python memory is managed by Python private heap space. All Python objects and data structures are located in a private heap. The programmer does not have access to this private heap. The python interpreter takes care of this instead. The allocation of heap space for Python objects is done by Python's memory manager. The core API gives access to some tools for the programmer to code."
   ]
  },
  {
   "cell_type": "code",
   "execution_count": null,
   "metadata": {},
   "outputs": [],
   "source": [
    "#  What are python modules? Name some commonly used built-in modules in Python?\n",
    "# Python modules are files containing Python code. This code can either be functions classes or variables. A Python module is a .py file containing executable code. It can define functions, classes, and variables. A Python module can also include runnable code. Some of the commonly used built-in modules in Python are:\n",
    "# 1. os\n",
    "# 2. sys\n",
    "# 3. math\n",
    "# 4. random\n",
    "# 5. data time\n",
    "# 6. JSON\n",
    "# 7. email\n",
    "# 8. sqlite3\n",
    "# 9. tkinter\n",
    "# 10. smtplib"
   ]
  },
  {
   "cell_type": "code",
   "execution_count": null,
   "metadata": {},
   "outputs": [
    {
     "name": "stdout",
     "output_type": "stream",
     "text": [
      "The value of c is: 30.5\n",
      "The value of c is: 30\n"
     ]
    }
   ],
   "source": [
    "#  What is type conversion in Python? give an example.\n",
    "# Type conversion refers to the conversion of one data type into another. This is done to modify the existing data type into a new data type. Python has two types of type conversion.\n",
    "# 1. Implicit Type Conversion\n",
    "# 2. Explicit Type Conversion\n",
    "# Example:\n",
    "a = 10\n",
    "b = 20.5\n",
    "c = a + b\n",
    "print('The value of c is:',c)\n",
    "# In the above example, the integer value is converted into a float value. This is an example of implicit type conversion.\n",
    "#explicit type conversion\n",
    "a = 10\n",
    "b = 20.5\n",
    "c = a + int(b)\n",
    "print('The value of c is:',c)\n",
    "# In the above example, the float value is converted into an integer value. This is an example of explicit type conversion."
   ]
  },
  {
   "cell_type": "code",
   "execution_count": null,
   "metadata": {},
   "outputs": [],
   "source": [
    "#  What is the difference between Python Arrays and lists?\n",
    "# Python Arrays and lists, both are used to store data. They both can be used to store any data type (real numbers, strings, etc), and they both can be indexed and iterated through. However, there are some differences between the two.\n",
    "# 1. Arrays can store data very compactly and are more efficient for storing large amounts of data. Arrays are great for numerical operations; lists cannot directly handle math operations.\n",
    "# 2. Arrays are not as flexible as lists. Lists can store data of different types in one list. Arrays can only store data of one type.\n",
    "# 3. Arrays are not part of the standard Python library. To use arrays you need to import the array module.\n"
   ]
  },
  {
   "cell_type": "code",
   "execution_count": null,
   "metadata": {},
   "outputs": [],
   "source": [
    "#  What are the built-in types of python?\n",
    "# Python has five standard data types:\n",
    "# 1. Numbers\n",
    "# 2. String\n",
    "# 3. List\n",
    "# 4. Tuple\n",
    "# 5. Dictionary"
   ]
  },
  {
   "cell_type": "code",
   "execution_count": null,
   "metadata": {},
   "outputs": [],
   "source": [
    "#Explain the need for Unicodes.\n",
    "#Unicode is a standard for the consistent encoding, representation, and handling of text expressed in most of the world's writing systems. The primary purpose of Unicode is to unify the encoding of all the world's writing systems into a single character set. This is important because it allows for the consistent representation and handling of text in different languages and writing systems. Unicode is essential for the development of software and technologies that need to handle text in multiple languages and writing systems, such as web browsers, word processors, and databases."
   ]
  },
  {
   "cell_type": "code",
   "execution_count": null,
   "metadata": {},
   "outputs": [
    {
     "name": "stdout",
     "output_type": "stream",
     "text": [
      "Hello, World!\n",
      "Hello, World!\n",
      "Hello, World!\n"
     ]
    }
   ],
   "source": [
    "#  Explain the different string formats available in Python with examples?\n",
    "# There are three different string formats available in Python:\n",
    "# 1. Single quotes\n",
    "# 2. Double quotes\n",
    "# 3. Triple quotes\n",
    "# Example:\n",
    "# Single quotes\n",
    "a = 'Hello, World!'\n",
    "print(a)\n",
    "# Double quotes\n",
    "b = \"Hello, World!\"\n",
    "print(b)\n",
    "# Triple quotes\n",
    "c = '''Hello, World!'''\n",
    "print(c)"
   ]
  },
  {
   "cell_type": "code",
   "execution_count": null,
   "metadata": {},
   "outputs": [
    {
     "name": "stdout",
     "output_type": "stream",
     "text": [
      "10\n",
      "10.0\n",
      "10\n",
      "E\n",
      "(10+20j)\n"
     ]
    }
   ],
   "source": [
    "#  Discuss the int(), float(), str(), chr() and complex() type conversion functions with examples\n",
    "# int(): This function is used to convert any data type to an integer type.\n",
    "# Example:\n",
    "a = 10.5\n",
    "b = int(a)\n",
    "print(b)\n",
    "# float(): This function is used to convert any data type to a float type.\n",
    "# Example:\n",
    "a = 10\n",
    "b = float(a)\n",
    "print(b)\n",
    "# str(): This function is used to convert any data type to a string type.\n",
    "# Example:\n",
    "a = 10\n",
    "b = str(a)\n",
    "print(b)\n",
    "# chr(): This function is used to convert an integer to a character.\n",
    "# Example:\n",
    "a = 69\n",
    "b = chr(a)\n",
    "print(b)\n",
    "# complex(): This function is used to convert two real numbers to a complex number.\n",
    "# Example:\n",
    "a = 10\n",
    "b = 20\n",
    "c = complex(a, b)\n",
    "print(c)\n"
   ]
  },
  {
   "cell_type": "code",
   "execution_count": null,
   "metadata": {},
   "outputs": [
    {
     "name": "stdout",
     "output_type": "stream",
     "text": [
      "65\n",
      "0xa\n",
      "0o144\n",
      "(10+20j)\n",
      "10.0\n"
     ]
    }
   ],
   "source": [
    "# Discuss the ord(), hex(), oct(), complex() and float() type conversion functions with examples?\n",
    "# ord(): This function is used to convert a character to its Unicode code.\n",
    "# Example:\n",
    "a = 'A'\n",
    "b = ord(a)\n",
    "print(b)\n",
    "# hex(): This function is used to convert an integer to a hexadecimal string.\n",
    "# Example:\n",
    "a = 10\n",
    "b = hex(a)\n",
    "print(b)\n",
    "# oct(): This function is used to convert an integer to an octal string.    \n",
    "# Example:\n",
    "a = 100\n",
    "b = oct(a)\n",
    "print(b)\n",
    "# complex(): This function is used to convert two real numbers to a complex number.\n",
    "# Example:\n",
    "a = 10\n",
    "b = 20\n",
    "c = complex(a, b)\n",
    "print(c)\n",
    "# float(): This function is used to convert any data type to a float type.\n",
    "# Example:\n",
    "a = 10\n",
    "b = float(a)\n",
    "print(b)\n",
    "\n"
   ]
  },
  {
   "cell_type": "code",
   "execution_count": null,
   "metadata": {},
   "outputs": [],
   "source": [
    "#  Describe the is and is not operators and type() function. Also, discuss why Python is called as dynamic and strongly typed language.\n",
    "#ANSWER==========================>\n",
    "# The is and is not operators are used to compare the identity of two objects. The is operator returns True if the two objects are the same object, while the is not operator returns True if the two objects are not the same object.\n",
    "# Example:\n",
    "a = 10\n",
    "b = 10\n",
    "print(a is b) #True\n",
    "print(a is not b) #False\n",
    "# The type() function is used to return the data type of an object.\n",
    "# Example:\n",
    "a = 10\n",
    "print(type(a))\n",
    "# Python is called a dynamic and strongly typed language because it is dynamically typed, meaning that the type of a variable is not explicitly declared, and it can be changed at runtime. It is also strongly typed, meaning that the type of a variable is enforced, and it cannot be changed implicitly."
   ]
  },
  {
   "cell_type": "markdown",
   "metadata": {},
   "source": [
    "#  What is Python? Describe its features and applications?\n",
    "# Python is a high-level, interpreted, and general-purpose programming language. It was created by Guido van Rossum and first released in 1991. Python is known for its simplicity and readability, making it an ideal language for beginners and experienced programmers alike. Some of the key features of Python include:\n",
    "# 1. Easy to learn and use\n",
    "# 2. Expressive language\n",
    "# 3. Interpreted language\n",
    "# 4. Cross-platform language\n",
    "# 5. Free and open-source\n",
    "# 6. Object-oriented language\n",
    "# 7. Extensible\n",
    "# 8. Large standard library\n",
    "\n",
    "# Python has a wide range of applications, including:\n",
    "# 1. Web development\n",
    "# 2. Data analysis and visualization\n",
    "# 3. Machine learning and artificial intelligence\n",
    "# 4. Scientific computing\n",
    "# 5. Network programming\n",
    "# 6. Game development\n",
    "# 7. Desktop applications"
   ]
  },
  {
   "cell_type": "code",
   "execution_count": null,
   "metadata": {},
   "outputs": [
    {
     "name": "stdout",
     "output_type": "stream",
     "text": [
      "The value of c is: 30.5\n",
      "The value of c is: 30\n",
      "The value of c is: 30\n"
     ]
    }
   ],
   "source": [
    "# Explain in detail about Python type conversion and type casting?\n",
    "# Type conversion refers to the conversion of one data type into another. This is done to modify the existing data type into a new data type. Python has two types of type conversion.\n",
    "# 1. Implicit Type Conversion: In implicit type conversion, Python automatically converts one data type to another data type. This is done to accommodate the new data type.\n",
    "# Example:\n",
    "a = 10\n",
    "b = 20.5\n",
    "c = a + b\n",
    "print('The value of c is:',c)\n",
    "# In the above example, the integer value is converted into a float value. This is an example of implicit type conversion.\n",
    "# 2. Explicit Type Conversion: In explicit type conversion, the data type is manually converted into another data type. This is done using built-in functions like int(), float(), str(), etc.\n",
    "# Example:\n",
    "a = 10\n",
    "b = 20.5\n",
    "c = a + int(b)\n",
    "print('The value of c is:',c)\n",
    "# In the above example, the float value is converted into an integer value. This is an example of explicit type conversion.\n",
    "# Type casting refers to the explicit conversion of a data type into another data type. This is done using built-in functions like int(), float(), str(), etc.\n",
    "# Example:\n",
    "a = 10\n",
    "b = 20.5\n",
    "c = a + int(b)\n",
    "print('The value of c is:',c)\n"
   ]
  },
  {
   "cell_type": "code",
   "execution_count": null,
   "metadata": {},
   "outputs": [],
   "source": [
    "#  What are operators in Python? Describe specifically about identity membership operator?\n",
    "\n",
    "# Operators in Python are special symbols that are used to perform operations on variables and values. There are several types of operators in Python, including arithmetic operators, assignment operators, comparison operators, logical operators, identity operators, membership operators, and bitwise operators.\n",
    "# -------------->\n",
    "# Identity operators are used to compare the memory location of two objects. There are two identity operators in Python: is and is not. The is operator returns True if the two objects are the same object, while the is not operator returns True if the two objects are not the same object.\n",
    "# Example:\n",
    "a = 10\n",
    "b = 10\n",
    "print(a is b) #True\n",
    "print(a is not b) #False\n",
    "# Membership operators are used to test if a sequence is presented in an object. There are two membership operators in Python: in and not in. The in operator returns True if the specified value is present in the object, while the not in operator returns True if the specified value is not present in the object.\n",
    "# Example:\n",
    "a = [1, 2, 3, 4, 5]\n",
    "print(3 in a) #True\n",
    "print(6 not in a) #True\n"
   ]
  },
  {
   "cell_type": "code",
   "execution_count": null,
   "metadata": {},
   "outputs": [
    {
     "name": "stdout",
     "output_type": "stream",
     "text": [
      "*  abcdef *\n",
      "11abcdef1\n",
      "1\n",
      "[1, 2, 3]\n",
      "33\n"
     ]
    }
   ],
   "source": [
    "max(\"what are you\") #return the maximum value of the string is 'y'\n",
    "print('*', \"abcdef\".center(7), '*')\n",
    "print(\"abcdef\".center(9, '1'))\n",
    "print(\"xyyzxyzxzxyy\".count('yy', 2))\n",
    "elements = [0, 1, 2]\n",
    "def incr(x):\n",
    "    return x+1\n",
    "print(list(map(incr, elements)))\n",
    "# \"abcd\"[2:] #return 'cd'\n",
    "print(0xA + 0xB + 0xC)\n"
   ]
  },
  {
   "cell_type": "code",
   "execution_count": null,
   "metadata": {},
   "outputs": [
    {
     "name": "stdout",
     "output_type": "stream",
     "text": [
      "Hello from Bunty !!❤️"
     ]
    }
   ],
   "source": [
    "#  What are functions in Python?\n",
    "# A function is a block of code that only runs when it is called. You can pass data, known as parameters, into a function. A function can return data as a result. Functions are used to perform specific tasks and are reusable. They allow you to break down a large program into smaller, more manageable pieces. Functions are defined using the def keyword, followed by the function name and parentheses. The code block within every function starts with a colon and is indented. Functions are called by using the function name followed by parentheses.\n",
    "# Example:\n",
    "def my_function():\n",
    "  print(\"Hello from Bunty !!\",end='❤️')\n",
    "my_function()"
   ]
  },
  {
   "cell_type": "code",
   "execution_count": null,
   "metadata": {},
   "outputs": [],
   "source": [
    "# What is __init__?\n",
    "# __init__ is a special method in Python that is automatically called when a new instance of a class is created. It is used to initialize the object's attributes. The __init__ method is also known as the constructor method, and it is used to set the initial state of the object. The __init__ method takes at least one argument, self, which refers to the object itself. It can also take additional arguments to initialize the object's attributes."
   ]
  },
  {
   "cell_type": "code",
   "execution_count": null,
   "metadata": {},
   "outputs": [],
   "source": [
    "# What is a lambda function?\n",
    "# A lambda function is a small anonymous function that can have any number of arguments, but can only have one expression. Lambda functions are used when you need a simple function for a short period of time. They are defined using the lambda keyword, followed by the arguments and a colon, and then the expression to be evaluated. Lambda functions can be used wherever function objects are required."
   ]
  },
  {
   "cell_type": "code",
   "execution_count": null,
   "metadata": {},
   "outputs": [
    {
     "name": "stdout",
     "output_type": "stream",
     "text": [
      "Even sum : 80\n",
      "Odd sum : 292\n"
     ]
    }
   ],
   "source": [
    "ls=[2,3,67,56,33,22,37,53,99]\n",
    "# implement a program to find the sum of all even and odd numbers in a list\n",
    "evnsum=0\n",
    "oddsum=0\n",
    "for i in range(len(ls)):\n",
    "    if ls[i]%2==0:\n",
    "        evnsum+=ls[i]\n",
    "    else:\n",
    "        oddsum+=ls[i]\n",
    "print('Even sum :',evnsum)\n",
    "print('Odd sum :',oddsum)"
   ]
  },
  {
   "cell_type": "code",
   "execution_count": null,
   "metadata": {},
   "outputs": [
    {
     "name": "stdout",
     "output_type": "stream",
     "text": [
      "{'monty': 987654321, 'ram': 456789123}\n"
     ]
    }
   ],
   "source": [
    "# 2)write a udf findname(name)where name is an argument in python to delte phone number from a dictionary phonebook on the basis of the name ,where name is the key?\n",
    "def findname(name):\n",
    "    phonebook={'bunty':123456789,'monty':987654321,'ram':456789123}\n",
    "    if name in phonebook:\n",
    "        del phonebook[name]\n",
    "    else:\n",
    "        pass\n",
    "    return phonebook\n",
    "print(findname('bunty'))"
   ]
  },
  {
   "cell_type": "code",
   "execution_count": null,
   "metadata": {},
   "outputs": [
    {
     "name": "stdout",
     "output_type": "stream",
     "text": [
      "{'b': 1, 'u': 1, 'n': 1, 't': 4, 'y': 3}\n"
     ]
    }
   ],
   "source": [
    "#3)wap to display the number of occurences of Character of a string in a dictionary?\n",
    "def occurence(string):\n",
    "    dict1={}\n",
    "    for i in string:\n",
    "        if i in dict1:\n",
    "            dict1[i]+=1\n",
    "        else:\n",
    "            dict1[i]=1\n",
    "    return dict1\n",
    "print(occurence('buntyyyttt'))"
   ]
  },
  {
   "cell_type": "code",
   "execution_count": null,
   "metadata": {},
   "outputs": [
    {
     "name": "stdout",
     "output_type": "stream",
     "text": [
      "[1, 2, 3, 4, 5, 6, 7, 8, 9, 10, 20]\n",
      "[1, 2, 20, 3, 4, 5, 6, 7, 8, 9, 10, 20]\n",
      "[1, 2, 20, 3, 4, 5, 6, 7, 8, 9, 10, 20, 200]\n",
      "2\n",
      "[1, 2, 20, 3, 4, 5, 6, 7, 8, 9, 10, 20, 200]\n"
     ]
    }
   ],
   "source": [
    "#exaplain the list methods using example?\n",
    "#extend(),insert(),append(),count(),copy()\n",
    "#extend()\n",
    "#it is used to add elements of a list to another list. It takes a list as an argument and adds all the elements of the list to the end of the original list.\n",
    "list1=[1,2,3,4,5]\n",
    "list2=[6,7,8,9,10,20]\n",
    "list1.extend(list2)\n",
    "print(list1)\n",
    "#insert()\n",
    "#it is used to insert an element at a specified position in a list. It takes two arguments, the index at which the element is to be inserted and the element itself.\n",
    "list1.insert(2,20)\n",
    "print(list1)\n",
    "#append()\n",
    "#it is used to add an element to the end of a list. It takes a single argument, the element to be added to the list.\n",
    "list1.append(200)\n",
    "print(list1)\n",
    "#count()\n",
    "#it is used to count the number of occurrences of an element in a list.\n",
    "print(list1.count(20))\n",
    "#copy()\n",
    "#it is used to create a copy of a list. It returns a new list with the same elements as the original list.\n",
    "list3=list1.copy()\n",
    "print(list3)\n"
   ]
  },
  {
   "cell_type": "code",
   "execution_count": null,
   "metadata": {},
   "outputs": [
    {
     "name": "stdout",
     "output_type": "stream",
     "text": [
      "120\n"
     ]
    }
   ],
   "source": [
    "#wap tp recursive function recurfactorial(n) in python to calculate and return the factorial of number n passed to the parameter?\n",
    "def recurfactorial(n):\n",
    "    if n==1:\n",
    "        return 1\n",
    "    else:\n",
    "        return n*recurfactorial(n-1)\n",
    "print(recurfactorial(5))"
   ]
  },
  {
   "cell_type": "code",
   "execution_count": null,
   "metadata": {},
   "outputs": [
    {
     "name": "stdout",
     "output_type": "stream",
     "text": [
      "{1, 2, 3, 4, 5, 6, 7, 8}\n",
      "{4, 5}\n",
      "{1, 2, 3}\n",
      "{1, 2, 3, 6, 7, 8}\n",
      "{1, 2, 3, 4, 5, 6, 7, 8}\n"
     ]
    }
   ],
   "source": [
    "#set functions using example?\n",
    "#union(),intersection(),difference(),symmetric_difference(),update()\n",
    "#union()    \n",
    "#it is used to return a new set containing all the elements from two or more sets.\n",
    "set1={1,2,3,4,5}\n",
    "set2={4,5,6,7,8}\n",
    "print(set1.union(set2))\n",
    "#intersection()\n",
    "#it is used to return a new set containing the common elements from two or more sets.\n",
    "print(set1.intersection(set2))\n",
    "#difference()\n",
    "#it is used to return a new set containing the difference between two or more sets.\n",
    "print(set1.difference(set2))\n",
    "#symmetric_difference()\n",
    "#it is used to return a new set containing the symmetric difference between two sets.\n",
    "print(set1.symmetric_difference(set2))\n",
    "#update()\n",
    "#it is used to update a set with the union of itself and another set.\n",
    "set1.update(set2)\n",
    "print(set1)\n"
   ]
  },
  {
   "cell_type": "code",
   "execution_count": null,
   "metadata": {},
   "outputs": [
    {
     "name": "stdout",
     "output_type": "stream",
     "text": [
      "['is', 'a']\n"
     ]
    }
   ],
   "source": [
    "ls=['this','is','a','test']\n",
    "new_list=[]\n",
    "#using for loop\n",
    "# def func(lis):\n",
    "#     for i in range(len(lis)):\n",
    "#         if len(lis[i])<3:\n",
    "#             new_list.append(lis[i])\n",
    "#     return new_list\n",
    "# print(func(ls))\n",
    "\n",
    "#using filter\n",
    "def func(lis):\n",
    "    return len(lis)<3\n",
    "\n",
    "new_list=list(filter(func,ls))\n",
    "print(new_list)"
   ]
  }
 ],
 "metadata": {
  "kernelspec": {
   "display_name": "Python 3",
   "language": "python",
   "name": "python3"
  },
  "language_info": {
   "codemirror_mode": {
    "name": "ipython",
    "version": 3
   },
   "file_extension": ".py",
   "mimetype": "text/x-python",
   "name": "python",
   "nbconvert_exporter": "python",
   "pygments_lexer": "ipython3",
   "version": "3.11.8"
  }
 },
 "nbformat": 4,
 "nbformat_minor": 2
}
