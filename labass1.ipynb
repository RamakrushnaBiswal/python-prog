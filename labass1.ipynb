{
 "cells": [
  {
   "cell_type": "code",
   "execution_count": 2,
   "metadata": {},
   "outputs": [
    {
     "name": "stdout",
     "output_type": "stream",
     "text": [
      "Addition: 11\n",
      "Subtraction: -1\n",
      "Multiplication: 30\n",
      "Division: 0.8333333333333334\n",
      "Floor Division: 0\n",
      "Exponentiation: 15625\n",
      "Modulus: 5\n"
     ]
    }
   ],
   "source": [
    "#Enter two integer from keyboard and perform all the arithmatic operations\n",
    "num1 = int(input(\"Enter the first integer: \"))\n",
    "num2 = int(input(\"Enter the second integer: \"))\n",
    "addition = num1 + num2\n",
    "subtraction = num1 - num2\n",
    "multiplication = num1 * num2\n",
    "division = num1 / num2\n",
    "floor_division = num1 // num2\n",
    "exponentiation = num1 ** num2\n",
    "modulus = num1 % num2\n",
    "print(\"Addition:\", addition)\n",
    "print(\"Subtraction:\", subtraction)\n",
    "print(\"Multiplication:\", multiplication)\n",
    "print(\"Division:\", division)\n",
    "print(\"Floor Division:\", floor_division)\n",
    "print(\"Exponentiation:\", exponentiation)\n",
    "print(\"Modulus:\", modulus)"
   ]
  },
  {
   "cell_type": "code",
   "execution_count": 6,
   "metadata": {},
   "outputs": [
    {
     "name": "stdout",
     "output_type": "stream",
     "text": [
      "The area of the triangle is:  14.981238266578634\n"
     ]
    }
   ],
   "source": [
    "#Enter three sides of a tringle.Findout the area of the triangle?\n",
    "from math import sqrt\n",
    "a = float(input(\"Enter first side: \"))\n",
    "b = float(input(\"Enter second side: \"))\n",
    "c = float(input(\"Enter third side: \"))\n",
    "s = (a + b + c) / 2\n",
    "area = sqrt((s*(s-a)*(s-b)*(s-c)))\n",
    "print(\"The area of the triangle is: \", area)"
   ]
  },
  {
   "cell_type": "code",
   "execution_count": 7,
   "metadata": {},
   "outputs": [
    {
     "name": "stdout",
     "output_type": "stream",
     "text": [
      "Binary equivalent:  0b111000\n",
      "Octal equivalent:  0o70\n",
      "Hexadecimal equivalent:  0x38\n"
     ]
    }
   ],
   "source": [
    "#Enter an integer number and find out its binay,octal and hexadecimal equivalent\n",
    "num = int(input(\"Enter an integer number: \"))\n",
    "\n",
    "binary = bin(num)\n",
    "octal = oct(num)\n",
    "hexadecimal = hex(num)\n",
    "\n",
    "print(\"Binary equivalent: \", binary)\n",
    "print(\"Octal equivalent: \", octal)\n",
    "print(\"Hexadecimal equivalent: \", hexadecimal)"
   ]
  },
  {
   "cell_type": "code",
   "execution_count": 8,
   "metadata": {},
   "outputs": [
    {
     "name": "stdout",
     "output_type": "stream",
     "text": [
      "Root 1:  (-1+0.8164965809277259j)\n",
      "Root 2:  (-1-0.8164965809277259j)\n"
     ]
    }
   ],
   "source": [
    "#Enter cofficient of a quaderic equation and find out the roots of the equivalent\n",
    "a = float(input(\"Enter cofficient of a: \"))\n",
    "b = float(input(\"Enter cofficient of b: \"))\n",
    "c = float(input(\"Enter cofficient of c: \"))\n",
    "\n",
    "d = (b**2) - (4*a*c)\n",
    "root1 = (-b + d**0.5)/(2*a)\n",
    "root2 = (-b - d**0.5)/(2*a)\n",
    "\n",
    "print(\"Root 1: \", root1)\n",
    "print(\"Root 2: \", root2)"
   ]
  },
  {
   "cell_type": "code",
   "execution_count": 9,
   "metadata": {},
   "outputs": [
    {
     "name": "stdout",
     "output_type": "stream",
     "text": [
      "Temperature in celcius:  32.016666666666666\n"
     ]
    }
   ],
   "source": [
    "# Enter a temperture in fhrenheight and convert into celcius\n",
    "temp = float(input(\"Enter temperature in fahrenheit: \"))\n",
    "celcius = (temp - 32) * 5/9\n",
    "\n",
    "print(\"Temperature in celcius: \", celcius)"
   ]
  },
  {
   "cell_type": "code",
   "execution_count": 10,
   "metadata": {},
   "outputs": [
    {
     "name": "stdout",
     "output_type": "stream",
     "text": [
      "Distance in kilometers:  0.095\n"
     ]
    }
   ],
   "source": [
    "#covert distance in meters in to kilometers\n",
    "distance = float(input(\"Enter distance in meters: \"))\n",
    "kilometers = distance / 1000\n",
    "print(\"Distance in kilometers: \", kilometers)"
   ]
  },
  {
   "cell_type": "code",
   "execution_count": 11,
   "metadata": {},
   "outputs": [
    {
     "name": "stdout",
     "output_type": "stream",
     "text": [
      "Original numbers: num1 = 6 , num2 = 91\n",
      "Swapped numbers: num1 = 91 , num2 = 6\n"
     ]
    }
   ],
   "source": [
    "#Enter two numbers and swap them using bitwise oprator\n",
    "num1 = int(input(\"Enter the first number: \"))\n",
    "num2 = int(input(\"Enter the second number: \"))\n",
    "print(\"Original numbers: num1 =\", num1, \", num2 =\", num2)\n",
    "num1 = num1 ^ num2\n",
    "num2 = num1 ^ num2\n",
    "num1 = num1 ^ num2\n",
    "print(\"Swapped numbers: num1 =\", num1, \", num2 =\", num2)"
   ]
  },
  {
   "cell_type": "code",
   "execution_count": null,
   "metadata": {},
   "outputs": [],
   "source": [
    "#swap two umber using addition\n",
    "num1 = int(input(\"Enter the first number: \"))\n",
    "num2 = int(input(\"Enter the second number: \"))\n",
    "print(\"Original numbers: num1 =\", num1, \", num2 =\", num2)\n",
    "num1 = num1 + num2\n",
    "num2 = num1 - num2\n",
    "num1 = num1 - num2\n",
    "print(\"Swapped numbers: num1 =\", num1, \", num2 =\", num2)"
   ]
  },
  {
   "cell_type": "code",
   "execution_count": 12,
   "metadata": {},
   "outputs": [
    {
     "name": "stdout",
     "output_type": "stream",
     "text": [
      "Number is even\n"
     ]
    }
   ],
   "source": [
    "#Even or odd\n",
    "num = int(input(\"Enter a number: \"))\n",
    "\n",
    "if num % 2 == 0:\n",
    "    print(\"Number is even\")\n",
    "else:\n",
    "    print(\"Number is odd\")"
   ]
  },
  {
   "cell_type": "code",
   "execution_count": 6,
   "metadata": {},
   "outputs": [
    {
     "name": "stdout",
     "output_type": "stream",
     "text": [
      "7.0\n"
     ]
    }
   ],
   "source": [
    "import math\n",
    "print(math.sqrt(49))"
   ]
  }
 ],
 "metadata": {
  "kernelspec": {
   "display_name": "Python 3",
   "language": "python",
   "name": "python3"
  },
  "language_info": {
   "codemirror_mode": {
    "name": "ipython",
    "version": 3
   },
   "file_extension": ".py",
   "mimetype": "text/x-python",
   "name": "python",
   "nbconvert_exporter": "python",
   "pygments_lexer": "ipython3",
   "version": "3.11.9"
  }
 },
 "nbformat": 4,
 "nbformat_minor": 2
}
